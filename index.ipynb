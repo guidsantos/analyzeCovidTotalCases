{
  "nbformat": 4,
  "nbformat_minor": 0,
  "metadata": {
    "language_info": {
      "codemirror_mode": {
        "name": "ipython",
        "version": 3
      },
      "file_extension": ".py",
      "mimetype": "text/x-python",
      "name": "python",
      "nbconvert_exporter": "python",
      "pygments_lexer": "ipython3",
      "version": "3.8.5"
    },
    "orig_nbformat": 2,
    "kernelspec": {
      "name": "python385jvsc74a57bd0b3ba2566441a7c06988d0923437866b63cedc61552a5af99d1f4fb67d367b25f",
      "display_name": "Python 3.8.5 64-bit ('base': conda)"
    },
    "colab": {
      "name": "index.ipynb",
      "provenance": [],
      "collapsed_sections": [],
      "include_colab_link": true
    }
  },
  "cells": [
    {
      "cell_type": "markdown",
      "metadata": {
        "id": "view-in-github",
        "colab_type": "text"
      },
      "source": [
        "<a href=\"https://colab.research.google.com/github/guidsantos/analyzeCovidTotalCases/blob/main/index.ipynb\" target=\"_parent\"><img src=\"https://colab.research.google.com/assets/colab-badge.svg\" alt=\"Open In Colab\"/></a>"
      ]
    },
    {
      "cell_type": "code",
      "metadata": {
        "id": "0hzoQZmHquom"
      },
      "source": [
        "import bs4 as bs\n",
        "import requests as req"
      ],
      "execution_count": 299,
      "outputs": []
    },
    {
      "cell_type": "code",
      "metadata": {
        "id": "UxoKbt24quor"
      },
      "source": [
        "import pandas as pd\n",
        "import numpy as np"
      ],
      "execution_count": 300,
      "outputs": []
    },
    {
      "cell_type": "code",
      "metadata": {
        "id": "AcdYt0JPquov"
      },
      "source": [
        "import seaborn as sns\n",
        "sns.set()\n",
        "import matplotlib.pyplot as plt"
      ],
      "execution_count": 393,
      "outputs": []
    },
    {
      "cell_type": "code",
      "metadata": {
        "id": "Xqzqt32Wquox"
      },
      "source": [
        "pagHtml = req.get(\"https://en.wikipedia.org/wiki/COVID-19_pandemic_by_country_and_territory#void\").text"
      ],
      "execution_count": 302,
      "outputs": []
    },
    {
      "cell_type": "code",
      "metadata": {
        "tags": [],
        "id": "KofVAwTaquoz"
      },
      "source": [
        "soup = bs.BeautifulSoup(pagHtml, 'html5lib')"
      ],
      "execution_count": 303,
      "outputs": []
    },
    {
      "cell_type": "code",
      "metadata": {
        "tags": [],
        "id": "Fci406FTquo0"
      },
      "source": [
        "table = soup.find(\"div\", id=\"covid-19-pandemic-data\")"
      ],
      "execution_count": 304,
      "outputs": []
    },
    {
      "cell_type": "code",
      "metadata": {
        "colab": {
          "base_uri": "https://localhost:8080/",
          "height": 35
        },
        "id": "8R8C-oSgquo4",
        "outputId": "712974df-f31b-4a85-ae22-1f6c31fb7122"
      },
      "source": [
        "trs = table.findAll('tr')\n",
        "trsValues = []\n",
        "trs[2].get_text()"
      ],
      "execution_count": 305,
      "outputs": [
        {
          "output_type": "execute_result",
          "data": {
            "application/vnd.google.colaboratory.intrinsic+json": {
              "type": "string"
            },
            "text/plain": [
              "'\\n\\n\\nUnited States[f]\\n\\n33,017,234\\n\\n589,984\\n\\nNo data\\n\\n[16]\\n'"
            ]
          },
          "metadata": {
            "tags": []
          },
          "execution_count": 305
        }
      ]
    },
    {
      "cell_type": "code",
      "metadata": {
        "id": "4bvIHuJmquo5"
      },
      "source": [
        "trsValues = []\n",
        "for tr in trs:\n",
        "    trText = tr.get_text()\n",
        "    trText = trText.replace(',', '.')\n",
        "    trText2 = trText.replace('\\n\\n\\n', '')  \n",
        "    trText3 = trText2.replace('\\n\\n', ',')\n",
        "    trText4 = trText3.replace('\\n', '')\n",
        "    trText5 = trText4.replace(trText4[trText4.find(\"[\"):trText4.find(\"]\")+1], '').strip()\n",
        "    trTextList = trText5.split(',') \n",
        "    trsValues.append(trTextList)\n",
        "\n",
        "location = []\n",
        "cases = []\n",
        "deaths = []\n",
        "recov = []\n",
        "\n",
        "for x in range(len(trsValues)-3):\n",
        "   location.append(trsValues[x+1][0])\n",
        "   cases.append(trsValues[x+1][1])\n",
        "   deaths.append(trsValues[x+1][2])\n",
        "   recov.append(trsValues[x+1][3])"
      ],
      "execution_count": 306,
      "outputs": []
    },
    {
      "cell_type": "code",
      "metadata": {
        "id": "XThRhVyVquo7"
      },
      "source": [
        "casesDF = pd.DataFrame(np.column_stack([location, cases, deaths,recov ]), \n",
        "                               columns=['Location', 'Cases', 'Deaths', 'Recovery'])"
      ],
      "execution_count": 307,
      "outputs": []
    },
    {
      "cell_type": "code",
      "metadata": {
        "colab": {
          "base_uri": "https://localhost:8080/",
          "height": 347
        },
        "id": "4hsyEWfmquo8",
        "outputId": "56283eb5-2977-4d59-e037-3e3aab2f7707"
      },
      "source": [
        "casesDF.head(10)"
      ],
      "execution_count": 308,
      "outputs": [
        {
          "output_type": "execute_result",
          "data": {
            "text/html": [
              "<div>\n",
              "<style scoped>\n",
              "    .dataframe tbody tr th:only-of-type {\n",
              "        vertical-align: middle;\n",
              "    }\n",
              "\n",
              "    .dataframe tbody tr th {\n",
              "        vertical-align: top;\n",
              "    }\n",
              "\n",
              "    .dataframe thead th {\n",
              "        text-align: right;\n",
              "    }\n",
              "</style>\n",
              "<table border=\"1\" class=\"dataframe\">\n",
              "  <thead>\n",
              "    <tr style=\"text-align: right;\">\n",
              "      <th></th>\n",
              "      <th>Location</th>\n",
              "      <th>Cases</th>\n",
              "      <th>Deaths</th>\n",
              "      <th>Recovery</th>\n",
              "    </tr>\n",
              "  </thead>\n",
              "  <tbody>\n",
              "    <tr>\n",
              "      <th>0</th>\n",
              "      <td>World</td>\n",
              "      <td>160.743.894</td>\n",
              "      <td>3.338.355</td>\n",
              "      <td>No data</td>\n",
              "    </tr>\n",
              "    <tr>\n",
              "      <th>1</th>\n",
              "      <td>United States</td>\n",
              "      <td>33.017.234</td>\n",
              "      <td>589.984</td>\n",
              "      <td>No data</td>\n",
              "    </tr>\n",
              "    <tr>\n",
              "      <th>2</th>\n",
              "      <td>India</td>\n",
              "      <td>23.703.665</td>\n",
              "      <td>258.317</td>\n",
              "      <td>19.734.823</td>\n",
              "    </tr>\n",
              "    <tr>\n",
              "      <th>3</th>\n",
              "      <td>Brazil</td>\n",
              "      <td>15.361.686</td>\n",
              "      <td>428.256</td>\n",
              "      <td>13.924.217</td>\n",
              "    </tr>\n",
              "    <tr>\n",
              "      <th>4</th>\n",
              "      <td>France</td>\n",
              "      <td>5.800.170</td>\n",
              "      <td>106.935</td>\n",
              "      <td>No data</td>\n",
              "    </tr>\n",
              "    <tr>\n",
              "      <th>5</th>\n",
              "      <td>Turkey</td>\n",
              "      <td>5.083.996</td>\n",
              "      <td>44.059</td>\n",
              "      <td>4.856.763</td>\n",
              "    </tr>\n",
              "    <tr>\n",
              "      <th>6</th>\n",
              "      <td>Russia</td>\n",
              "      <td>4.913.439</td>\n",
              "      <td>114.723</td>\n",
              "      <td>4.527.878</td>\n",
              "    </tr>\n",
              "    <tr>\n",
              "      <th>7</th>\n",
              "      <td>United Kingdom</td>\n",
              "      <td>4.444.631</td>\n",
              "      <td>127.651</td>\n",
              "      <td>No data</td>\n",
              "    </tr>\n",
              "    <tr>\n",
              "      <th>8</th>\n",
              "      <td>Italy</td>\n",
              "      <td>4.131.078</td>\n",
              "      <td>123.544</td>\n",
              "      <td>3.655.112</td>\n",
              "    </tr>\n",
              "    <tr>\n",
              "      <th>9</th>\n",
              "      <td>Spain</td>\n",
              "      <td>3.592.751</td>\n",
              "      <td>79.205</td>\n",
              "      <td>No data</td>\n",
              "    </tr>\n",
              "  </tbody>\n",
              "</table>\n",
              "</div>"
            ],
            "text/plain": [
              "         Location        Cases     Deaths    Recovery\n",
              "0           World  160.743.894  3.338.355     No data\n",
              "1   United States   33.017.234    589.984     No data\n",
              "2           India   23.703.665    258.317  19.734.823\n",
              "3          Brazil   15.361.686    428.256  13.924.217\n",
              "4          France    5.800.170    106.935     No data\n",
              "5          Turkey    5.083.996     44.059   4.856.763\n",
              "6          Russia    4.913.439    114.723   4.527.878\n",
              "7  United Kingdom    4.444.631    127.651     No data\n",
              "8           Italy    4.131.078    123.544   3.655.112\n",
              "9           Spain    3.592.751     79.205     No data"
            ]
          },
          "metadata": {
            "tags": []
          },
          "execution_count": 308
        }
      ]
    },
    {
      "cell_type": "code",
      "metadata": {
        "colab": {
          "base_uri": "https://localhost:8080/",
          "height": 167
        },
        "id": "rFvPaktCquo9",
        "outputId": "9973376d-67dd-467b-e581-e1c0d539cec9"
      },
      "source": [
        "casesDF.describe()"
      ],
      "execution_count": 309,
      "outputs": [
        {
          "output_type": "execute_result",
          "data": {
            "text/html": [
              "<div>\n",
              "<style scoped>\n",
              "    .dataframe tbody tr th:only-of-type {\n",
              "        vertical-align: middle;\n",
              "    }\n",
              "\n",
              "    .dataframe tbody tr th {\n",
              "        vertical-align: top;\n",
              "    }\n",
              "\n",
              "    .dataframe thead th {\n",
              "        text-align: right;\n",
              "    }\n",
              "</style>\n",
              "<table border=\"1\" class=\"dataframe\">\n",
              "  <thead>\n",
              "    <tr style=\"text-align: right;\">\n",
              "      <th></th>\n",
              "      <th>Location</th>\n",
              "      <th>Cases</th>\n",
              "      <th>Deaths</th>\n",
              "      <th>Recovery</th>\n",
              "    </tr>\n",
              "  </thead>\n",
              "  <tbody>\n",
              "    <tr>\n",
              "      <th>count</th>\n",
              "      <td>240</td>\n",
              "      <td>240</td>\n",
              "      <td>240</td>\n",
              "      <td>240</td>\n",
              "    </tr>\n",
              "    <tr>\n",
              "      <th>unique</th>\n",
              "      <td>240</td>\n",
              "      <td>234</td>\n",
              "      <td>195</td>\n",
              "      <td>215</td>\n",
              "    </tr>\n",
              "    <tr>\n",
              "      <th>top</th>\n",
              "      <td>Saint Pierre and Miquelon</td>\n",
              "      <td>4</td>\n",
              "      <td>0</td>\n",
              "      <td>No data</td>\n",
              "    </tr>\n",
              "    <tr>\n",
              "      <th>freq</th>\n",
              "      <td>1</td>\n",
              "      <td>4</td>\n",
              "      <td>22</td>\n",
              "      <td>22</td>\n",
              "    </tr>\n",
              "  </tbody>\n",
              "</table>\n",
              "</div>"
            ],
            "text/plain": [
              "                         Location Cases Deaths Recovery\n",
              "count                         240   240    240      240\n",
              "unique                        240   234    195      215\n",
              "top     Saint Pierre and Miquelon     4      0  No data\n",
              "freq                            1     4     22       22"
            ]
          },
          "metadata": {
            "tags": []
          },
          "execution_count": 309
        }
      ]
    },
    {
      "cell_type": "code",
      "metadata": {
        "id": "AbY9IXOUquo-"
      },
      "source": [
        "def filterDf(dataFrame, column, values):\n",
        "    return dataFrame.loc[dataFrame[column].isin(values)]"
      ],
      "execution_count": 310,
      "outputs": []
    },
    {
      "cell_type": "code",
      "metadata": {
        "id": "XUaXL-rTquo_"
      },
      "source": [
        "locations_filter = ['Brazil','World', 'India', 'Russia', 'Turkey', 'United States', 'United Kingdom', 'France', 'Italy', 'Spain', 'Canada' ]\n",
        "\n",
        "casesDfFiltered = filterDf(casesDF, 'Location', locations_filter)"
      ],
      "execution_count": 311,
      "outputs": []
    },
    {
      "cell_type": "code",
      "metadata": {
        "colab": {
          "base_uri": "https://localhost:8080/",
          "height": 377
        },
        "id": "SD1Y7ik4qupA",
        "outputId": "933ce6db-99e3-4777-fe43-e4f03fef6aa4"
      },
      "source": [
        "casesDfFiltered"
      ],
      "execution_count": 312,
      "outputs": [
        {
          "output_type": "execute_result",
          "data": {
            "text/html": [
              "<div>\n",
              "<style scoped>\n",
              "    .dataframe tbody tr th:only-of-type {\n",
              "        vertical-align: middle;\n",
              "    }\n",
              "\n",
              "    .dataframe tbody tr th {\n",
              "        vertical-align: top;\n",
              "    }\n",
              "\n",
              "    .dataframe thead th {\n",
              "        text-align: right;\n",
              "    }\n",
              "</style>\n",
              "<table border=\"1\" class=\"dataframe\">\n",
              "  <thead>\n",
              "    <tr style=\"text-align: right;\">\n",
              "      <th></th>\n",
              "      <th>Location</th>\n",
              "      <th>Cases</th>\n",
              "      <th>Deaths</th>\n",
              "      <th>Recovery</th>\n",
              "    </tr>\n",
              "  </thead>\n",
              "  <tbody>\n",
              "    <tr>\n",
              "      <th>0</th>\n",
              "      <td>World</td>\n",
              "      <td>160.743.894</td>\n",
              "      <td>3.338.355</td>\n",
              "      <td>No data</td>\n",
              "    </tr>\n",
              "    <tr>\n",
              "      <th>1</th>\n",
              "      <td>United States</td>\n",
              "      <td>33.017.234</td>\n",
              "      <td>589.984</td>\n",
              "      <td>No data</td>\n",
              "    </tr>\n",
              "    <tr>\n",
              "      <th>2</th>\n",
              "      <td>India</td>\n",
              "      <td>23.703.665</td>\n",
              "      <td>258.317</td>\n",
              "      <td>19.734.823</td>\n",
              "    </tr>\n",
              "    <tr>\n",
              "      <th>3</th>\n",
              "      <td>Brazil</td>\n",
              "      <td>15.361.686</td>\n",
              "      <td>428.256</td>\n",
              "      <td>13.924.217</td>\n",
              "    </tr>\n",
              "    <tr>\n",
              "      <th>4</th>\n",
              "      <td>France</td>\n",
              "      <td>5.800.170</td>\n",
              "      <td>106.935</td>\n",
              "      <td>No data</td>\n",
              "    </tr>\n",
              "    <tr>\n",
              "      <th>5</th>\n",
              "      <td>Turkey</td>\n",
              "      <td>5.083.996</td>\n",
              "      <td>44.059</td>\n",
              "      <td>4.856.763</td>\n",
              "    </tr>\n",
              "    <tr>\n",
              "      <th>6</th>\n",
              "      <td>Russia</td>\n",
              "      <td>4.913.439</td>\n",
              "      <td>114.723</td>\n",
              "      <td>4.527.878</td>\n",
              "    </tr>\n",
              "    <tr>\n",
              "      <th>7</th>\n",
              "      <td>United Kingdom</td>\n",
              "      <td>4.444.631</td>\n",
              "      <td>127.651</td>\n",
              "      <td>No data</td>\n",
              "    </tr>\n",
              "    <tr>\n",
              "      <th>8</th>\n",
              "      <td>Italy</td>\n",
              "      <td>4.131.078</td>\n",
              "      <td>123.544</td>\n",
              "      <td>3.655.112</td>\n",
              "    </tr>\n",
              "    <tr>\n",
              "      <th>9</th>\n",
              "      <td>Spain</td>\n",
              "      <td>3.592.751</td>\n",
              "      <td>79.205</td>\n",
              "      <td>No data</td>\n",
              "    </tr>\n",
              "    <tr>\n",
              "      <th>22</th>\n",
              "      <td>Canada</td>\n",
              "      <td>1.309.336</td>\n",
              "      <td>24.802</td>\n",
              "      <td>1.208.541</td>\n",
              "    </tr>\n",
              "  </tbody>\n",
              "</table>\n",
              "</div>"
            ],
            "text/plain": [
              "          Location        Cases     Deaths    Recovery\n",
              "0            World  160.743.894  3.338.355     No data\n",
              "1    United States   33.017.234    589.984     No data\n",
              "2            India   23.703.665    258.317  19.734.823\n",
              "3           Brazil   15.361.686    428.256  13.924.217\n",
              "4           France    5.800.170    106.935     No data\n",
              "5           Turkey    5.083.996     44.059   4.856.763\n",
              "6           Russia    4.913.439    114.723   4.527.878\n",
              "7   United Kingdom    4.444.631    127.651     No data\n",
              "8            Italy    4.131.078    123.544   3.655.112\n",
              "9            Spain    3.592.751     79.205     No data\n",
              "22          Canada    1.309.336     24.802   1.208.541"
            ]
          },
          "metadata": {
            "tags": []
          },
          "execution_count": 312
        }
      ]
    },
    {
      "cell_type": "code",
      "metadata": {
        "id": "a7nRGeCoqupB"
      },
      "source": [
        "def getValuesInColumns(dataFrame, columns):\n",
        "    values = []\n",
        "    for column in columns:\n",
        "        column_values = []\n",
        "        for value in casesDfFiltered[column]:\n",
        "            column_values.append(float(value.replace('.','')))\n",
        "        values.append(column_values)\n",
        "    return values"
      ],
      "execution_count": 313,
      "outputs": []
    },
    {
      "cell_type": "code",
      "metadata": {
        "id": "i3mduuf7qupC"
      },
      "source": [
        "columns = ['Deaths', 'Cases']\n",
        "\n",
        "deathsAndRecovery = getValuesInColumns(casesDfFiltered, columns)\n",
        "\n",
        "deaths = deathsAndRecovery[0]\n",
        "cases = deathsAndRecovery[1]\n",
        "casesInFilteredLocationDf = deathsAndRecovery[1]"
      ],
      "execution_count": 314,
      "outputs": []
    },
    {
      "cell_type": "code",
      "metadata": {
        "colab": {
          "base_uri": "https://localhost:8080/"
        },
        "id": "_G0QuFmJqupD",
        "outputId": "c0aafac6-385b-4395-8884-4c227cf26b8e"
      },
      "source": [
        "deaths"
      ],
      "execution_count": 315,
      "outputs": [
        {
          "output_type": "execute_result",
          "data": {
            "text/plain": [
              "[3338355.0,\n",
              " 589984.0,\n",
              " 258317.0,\n",
              " 428256.0,\n",
              " 106935.0,\n",
              " 44059.0,\n",
              " 114723.0,\n",
              " 127651.0,\n",
              " 123544.0,\n",
              " 79205.0,\n",
              " 24802.0]"
            ]
          },
          "metadata": {
            "tags": []
          },
          "execution_count": 315
        }
      ]
    },
    {
      "cell_type": "code",
      "metadata": {
        "id": "bcLuC0P7qupE",
        "colab": {
          "base_uri": "https://localhost:8080/"
        },
        "outputId": "9a278acb-2101-4ae8-917a-b4a1c6ed0f38"
      },
      "source": [
        "casesDfFiltered.loc[:,'Deaths'] = deaths"
      ],
      "execution_count": 316,
      "outputs": [
        {
          "output_type": "stream",
          "text": [
            "/usr/local/lib/python3.7/dist-packages/pandas/core/indexing.py:1781: SettingWithCopyWarning: \n",
            "A value is trying to be set on a copy of a slice from a DataFrame.\n",
            "Try using .loc[row_indexer,col_indexer] = value instead\n",
            "\n",
            "See the caveats in the documentation: https://pandas.pydata.org/pandas-docs/stable/user_guide/indexing.html#returning-a-view-versus-a-copy\n",
            "  self.obj[item_labels[indexer[info_axis]]] = value\n"
          ],
          "name": "stderr"
        }
      ]
    },
    {
      "cell_type": "code",
      "metadata": {
        "id": "irtuN2Y2qupF",
        "colab": {
          "base_uri": "https://localhost:8080/"
        },
        "outputId": "772d28bc-0ceb-4205-ee23-a01ef104145c"
      },
      "source": [
        "casesDfFiltered.loc[:,'Cases'] = cases"
      ],
      "execution_count": 317,
      "outputs": [
        {
          "output_type": "stream",
          "text": [
            "/usr/local/lib/python3.7/dist-packages/pandas/core/indexing.py:1743: SettingWithCopyWarning: \n",
            "A value is trying to be set on a copy of a slice from a DataFrame.\n",
            "Try using .loc[row_indexer,col_indexer] = value instead\n",
            "\n",
            "See the caveats in the documentation: https://pandas.pydata.org/pandas-docs/stable/user_guide/indexing.html#returning-a-view-versus-a-copy\n",
            "  isetter(ilocs[0], value)\n"
          ],
          "name": "stderr"
        }
      ]
    },
    {
      "cell_type": "code",
      "metadata": {
        "id": "V9qTT2LDqupH"
      },
      "source": [
        "lethalities = []\n",
        "for i in range(len(deaths)):\n",
        "    death_i = int(deaths[i]) \n",
        "    nCases = int(cases[i])\n",
        "    lethality_i = death_i/nCases\n",
        "    lethalities.append(lethality_i)\n",
        "    nCases = '{0:,}'.format(nCases).replace(',','.')"
      ],
      "execution_count": 318,
      "outputs": []
    },
    {
      "cell_type": "code",
      "metadata": {
        "colab": {
          "base_uri": "https://localhost:8080/"
        },
        "id": "mOOCE6bIqupI",
        "outputId": "fde9fac9-bd87-4fe4-bfe8-dd0465de80a2"
      },
      "source": [
        "lethalities"
      ],
      "execution_count": 319,
      "outputs": [
        {
          "output_type": "execute_result",
          "data": {
            "text/plain": [
              "[0.020768160562291717,\n",
              " 0.01786897109551939,\n",
              " 0.010897766231508925,\n",
              " 0.02787818993305813,\n",
              " 0.018436528584507006,\n",
              " 0.008666214528886333,\n",
              " 0.02334881943176663,\n",
              " 0.028720269466689135,\n",
              " 0.02990599548108266,\n",
              " 0.02204578051749203,\n",
              " 0.018942425779173565]"
            ]
          },
          "metadata": {
            "tags": []
          },
          "execution_count": 319
        }
      ]
    },
    {
      "cell_type": "code",
      "metadata": {
        "id": "mpw8OypRqupJ"
      },
      "source": [
        "lethalities_round = []\n",
        "for lethality in lethalities:\n",
        "    lethality *= 100 \n",
        "    lethalities_round.append(round(lethality,3))"
      ],
      "execution_count": 320,
      "outputs": []
    },
    {
      "cell_type": "code",
      "metadata": {
        "colab": {
          "base_uri": "https://localhost:8080/"
        },
        "id": "DBvCuwm2qupL",
        "outputId": "b028c85f-8ceb-4d5b-f70b-4ff40aee80c5"
      },
      "source": [
        "lethalities_round"
      ],
      "execution_count": 321,
      "outputs": [
        {
          "output_type": "execute_result",
          "data": {
            "text/plain": [
              "[2.077, 1.787, 1.09, 2.788, 1.844, 0.867, 2.335, 2.872, 2.991, 2.205, 1.894]"
            ]
          },
          "metadata": {
            "tags": []
          },
          "execution_count": 321
        }
      ]
    },
    {
      "cell_type": "code",
      "metadata": {
        "id": "WWNO6empqupM",
        "colab": {
          "base_uri": "https://localhost:8080/"
        },
        "outputId": "93088520-fcea-4cb4-8e78-d1cf9f09e2ae"
      },
      "source": [
        "casesDfFiltered.loc[:,'Lethality'] = lethalities_round"
      ],
      "execution_count": 322,
      "outputs": [
        {
          "output_type": "stream",
          "text": [
            "/usr/local/lib/python3.7/dist-packages/pandas/core/indexing.py:1596: SettingWithCopyWarning: \n",
            "A value is trying to be set on a copy of a slice from a DataFrame.\n",
            "Try using .loc[row_indexer,col_indexer] = value instead\n",
            "\n",
            "See the caveats in the documentation: https://pandas.pydata.org/pandas-docs/stable/user_guide/indexing.html#returning-a-view-versus-a-copy\n",
            "  self.obj[key] = _infer_fill_value(value)\n",
            "/usr/local/lib/python3.7/dist-packages/pandas/core/indexing.py:1743: SettingWithCopyWarning: \n",
            "A value is trying to be set on a copy of a slice from a DataFrame.\n",
            "Try using .loc[row_indexer,col_indexer] = value instead\n",
            "\n",
            "See the caveats in the documentation: https://pandas.pydata.org/pandas-docs/stable/user_guide/indexing.html#returning-a-view-versus-a-copy\n",
            "  isetter(ilocs[0], value)\n"
          ],
          "name": "stderr"
        }
      ]
    },
    {
      "cell_type": "code",
      "metadata": {
        "colab": {
          "base_uri": "https://localhost:8080/",
          "height": 377
        },
        "id": "UnZPU2fGqupO",
        "outputId": "9d256d1d-91f0-492a-83d1-a49c16120940"
      },
      "source": [
        "casesDfFiltered"
      ],
      "execution_count": 323,
      "outputs": [
        {
          "output_type": "execute_result",
          "data": {
            "text/html": [
              "<div>\n",
              "<style scoped>\n",
              "    .dataframe tbody tr th:only-of-type {\n",
              "        vertical-align: middle;\n",
              "    }\n",
              "\n",
              "    .dataframe tbody tr th {\n",
              "        vertical-align: top;\n",
              "    }\n",
              "\n",
              "    .dataframe thead th {\n",
              "        text-align: right;\n",
              "    }\n",
              "</style>\n",
              "<table border=\"1\" class=\"dataframe\">\n",
              "  <thead>\n",
              "    <tr style=\"text-align: right;\">\n",
              "      <th></th>\n",
              "      <th>Location</th>\n",
              "      <th>Cases</th>\n",
              "      <th>Deaths</th>\n",
              "      <th>Recovery</th>\n",
              "      <th>Lethality</th>\n",
              "    </tr>\n",
              "  </thead>\n",
              "  <tbody>\n",
              "    <tr>\n",
              "      <th>0</th>\n",
              "      <td>World</td>\n",
              "      <td>160743894.0</td>\n",
              "      <td>3338355.0</td>\n",
              "      <td>No data</td>\n",
              "      <td>2.077</td>\n",
              "    </tr>\n",
              "    <tr>\n",
              "      <th>1</th>\n",
              "      <td>United States</td>\n",
              "      <td>33017234.0</td>\n",
              "      <td>589984.0</td>\n",
              "      <td>No data</td>\n",
              "      <td>1.787</td>\n",
              "    </tr>\n",
              "    <tr>\n",
              "      <th>2</th>\n",
              "      <td>India</td>\n",
              "      <td>23703665.0</td>\n",
              "      <td>258317.0</td>\n",
              "      <td>19.734.823</td>\n",
              "      <td>1.090</td>\n",
              "    </tr>\n",
              "    <tr>\n",
              "      <th>3</th>\n",
              "      <td>Brazil</td>\n",
              "      <td>15361686.0</td>\n",
              "      <td>428256.0</td>\n",
              "      <td>13.924.217</td>\n",
              "      <td>2.788</td>\n",
              "    </tr>\n",
              "    <tr>\n",
              "      <th>4</th>\n",
              "      <td>France</td>\n",
              "      <td>5800170.0</td>\n",
              "      <td>106935.0</td>\n",
              "      <td>No data</td>\n",
              "      <td>1.844</td>\n",
              "    </tr>\n",
              "    <tr>\n",
              "      <th>5</th>\n",
              "      <td>Turkey</td>\n",
              "      <td>5083996.0</td>\n",
              "      <td>44059.0</td>\n",
              "      <td>4.856.763</td>\n",
              "      <td>0.867</td>\n",
              "    </tr>\n",
              "    <tr>\n",
              "      <th>6</th>\n",
              "      <td>Russia</td>\n",
              "      <td>4913439.0</td>\n",
              "      <td>114723.0</td>\n",
              "      <td>4.527.878</td>\n",
              "      <td>2.335</td>\n",
              "    </tr>\n",
              "    <tr>\n",
              "      <th>7</th>\n",
              "      <td>United Kingdom</td>\n",
              "      <td>4444631.0</td>\n",
              "      <td>127651.0</td>\n",
              "      <td>No data</td>\n",
              "      <td>2.872</td>\n",
              "    </tr>\n",
              "    <tr>\n",
              "      <th>8</th>\n",
              "      <td>Italy</td>\n",
              "      <td>4131078.0</td>\n",
              "      <td>123544.0</td>\n",
              "      <td>3.655.112</td>\n",
              "      <td>2.991</td>\n",
              "    </tr>\n",
              "    <tr>\n",
              "      <th>9</th>\n",
              "      <td>Spain</td>\n",
              "      <td>3592751.0</td>\n",
              "      <td>79205.0</td>\n",
              "      <td>No data</td>\n",
              "      <td>2.205</td>\n",
              "    </tr>\n",
              "    <tr>\n",
              "      <th>22</th>\n",
              "      <td>Canada</td>\n",
              "      <td>1309336.0</td>\n",
              "      <td>24802.0</td>\n",
              "      <td>1.208.541</td>\n",
              "      <td>1.894</td>\n",
              "    </tr>\n",
              "  </tbody>\n",
              "</table>\n",
              "</div>"
            ],
            "text/plain": [
              "          Location        Cases     Deaths    Recovery  Lethality\n",
              "0            World  160743894.0  3338355.0     No data      2.077\n",
              "1    United States   33017234.0   589984.0     No data      1.787\n",
              "2            India   23703665.0   258317.0  19.734.823      1.090\n",
              "3           Brazil   15361686.0   428256.0  13.924.217      2.788\n",
              "4           France    5800170.0   106935.0     No data      1.844\n",
              "5           Turkey    5083996.0    44059.0   4.856.763      0.867\n",
              "6           Russia    4913439.0   114723.0   4.527.878      2.335\n",
              "7   United Kingdom    4444631.0   127651.0     No data      2.872\n",
              "8            Italy    4131078.0   123544.0   3.655.112      2.991\n",
              "9            Spain    3592751.0    79205.0     No data      2.205\n",
              "22          Canada    1309336.0    24802.0   1.208.541      1.894"
            ]
          },
          "metadata": {
            "tags": []
          },
          "execution_count": 323
        }
      ]
    },
    {
      "cell_type": "code",
      "metadata": {
        "colab": {
          "base_uri": "https://localhost:8080/",
          "height": 296
        },
        "id": "bQsvBvzPqupP",
        "outputId": "6952a868-b205-4fd3-8b58-297e698474bb"
      },
      "source": [
        "sns.boxplot(data=casesDfFiltered, x='Lethality')"
      ],
      "execution_count": 324,
      "outputs": [
        {
          "output_type": "execute_result",
          "data": {
            "text/plain": [
              "<matplotlib.axes._subplots.AxesSubplot at 0x7f3fd63d0d50>"
            ]
          },
          "metadata": {
            "tags": []
          },
          "execution_count": 324
        },
        {
          "output_type": "display_data",
          "data": {
            "image/png": "[encoded data removed]",
            "text/plain": [
              "<Figure size 432x288 with 1 Axes>"
            ]
          },
          "metadata": {
            "tags": [],
            "needs_background": "light"
          }
        }
      ]
    },
    {
      "cell_type": "code",
      "metadata": {
        "colab": {
          "base_uri": "https://localhost:8080/"
        },
        "id": "gQs-WCPHqupQ",
        "outputId": "205c896f-d867-4264-81ca-63468e0eeb91"
      },
      "source": [
        "lethalityOrder = sorted(casesDfFiltered['Lethality'])\n",
        "lethalityOrder"
      ],
      "execution_count": 325,
      "outputs": [
        {
          "output_type": "execute_result",
          "data": {
            "text/plain": [
              "[0.867, 1.09, 1.787, 1.844, 1.894, 2.077, 2.205, 2.335, 2.788, 2.872, 2.991]"
            ]
          },
          "metadata": {
            "tags": []
          },
          "execution_count": 325
        }
      ]
    },
    {
      "cell_type": "code",
      "metadata": {
        "id": "MOyNlRKdqupR"
      },
      "source": [
        "casesDfNoWorld = casesDfFiltered.query('Location != \"World\"')"
      ],
      "execution_count": 326,
      "outputs": []
    },
    {
      "cell_type": "code",
      "metadata": {
        "colab": {
          "base_uri": "https://localhost:8080/",
          "height": 514
        },
        "id": "WdwCXG6AqupS",
        "outputId": "273c9713-a636-4fc3-815f-5ad7bf31ac62"
      },
      "source": [
        "plt.figure(figsize=(15,8))\n",
        "sns.barplot(x='Location', y='Lethality', data=casesDfNoWorld.sort_values(['Lethality'], ascending=False))"
      ],
      "execution_count": 327,
      "outputs": [
        {
          "output_type": "execute_result",
          "data": {
            "text/plain": [
              "<matplotlib.axes._subplots.AxesSubplot at 0x7f3fd63ffe50>"
            ]
          },
          "metadata": {
            "tags": []
          },
          "execution_count": 327
        },
        {
          "output_type": "display_data",
          "data": {
            "image/png": "[encoded data removed]",
            "text/plain": [
              "<Figure size 1080x576 with 1 Axes>"
            ]
          },
          "metadata": {
            "tags": [],
            "needs_background": "light"
          }
        }
      ]
    },
    {
      "cell_type": "code",
      "metadata": {
        "colab": {
          "base_uri": "https://localhost:8080/",
          "height": 525
        },
        "id": "e-ZM1DY1qupT",
        "outputId": "3f8733f7-7416-42e7-8206-bd4c78e0df05"
      },
      "source": [
        "plt.figure(figsize=(15,8))\n",
        "sns.barplot(x='Location', y='Cases', data=casesDfNoWorld.sort_values(['Cases'], ascending=False))"
      ],
      "execution_count": 328,
      "outputs": [
        {
          "output_type": "execute_result",
          "data": {
            "text/plain": [
              "<matplotlib.axes._subplots.AxesSubplot at 0x7f3fd62dbad0>"
            ]
          },
          "metadata": {
            "tags": []
          },
          "execution_count": 328
        },
        {
          "output_type": "display_data",
          "data": {
            "image/png": "[encoded data removed]",
            "text/plain": [
              "<Figure size 1080x576 with 1 Axes>"
            ]
          },
          "metadata": {
            "tags": [],
            "needs_background": "light"
          }
        }
      ]
    },
    {
      "cell_type": "code",
      "metadata": {
        "colab": {
          "base_uri": "https://localhost:8080/",
          "height": 514
        },
        "id": "c9edi2FkqupU",
        "outputId": "5e3871a5-fd21-4711-dec5-caebc4ed16a0"
      },
      "source": [
        "plt.figure(figsize=(15,8))\n",
        "sns.barplot(x='Location', y='Deaths', data=casesDfNoWorld.sort_values(['Deaths'], ascending=False))"
      ],
      "execution_count": 329,
      "outputs": [
        {
          "output_type": "execute_result",
          "data": {
            "text/plain": [
              "<matplotlib.axes._subplots.AxesSubplot at 0x7f3fd62dd3d0>"
            ]
          },
          "metadata": {
            "tags": []
          },
          "execution_count": 329
        },
        {
          "output_type": "display_data",
          "data": {
            "image/png": "[encoded data removed]",
            "text/plain": [
              "<Figure size 1080x576 with 1 Axes>"
            ]
          },
          "metadata": {
            "tags": [],
            "needs_background": "light"
          }
        }
      ]
    },
    {
      "cell_type": "code",
      "metadata": {
        "colab": {
          "base_uri": "https://localhost:8080/",
          "height": 296
        },
        "id": "NHLUh2-zqupV",
        "outputId": "77022fc3-f16f-49dd-8717-8c739cd48d2d"
      },
      "source": [
        "sns.boxplot(data=casesDfNoWorld, x='Lethality')"
      ],
      "execution_count": 330,
      "outputs": [
        {
          "output_type": "execute_result",
          "data": {
            "text/plain": [
              "<matplotlib.axes._subplots.AxesSubplot at 0x7f3fe02154d0>"
            ]
          },
          "metadata": {
            "tags": []
          },
          "execution_count": 330
        },
        {
          "output_type": "display_data",
          "data": {
            "image/png": "[encoded data removed]",
            "text/plain": [
              "<Figure size 432x288 with 1 Axes>"
            ]
          },
          "metadata": {
            "tags": [],
            "needs_background": "light"
          }
        }
      ]
    },
    {
      "cell_type": "code",
      "metadata": {
        "id": "vsj22n_cqupV"
      },
      "source": [
        "pagHtml2 = req.get(\"https://www.br.undp.org/content/brazil/pt/home/idh0/rankings/idh-global.html\").text"
      ],
      "execution_count": 331,
      "outputs": []
    },
    {
      "cell_type": "code",
      "metadata": {
        "id": "mvBwdxe0qupW"
      },
      "source": [
        "soup2 = bs.BeautifulSoup(pagHtml2, 'html5lib')"
      ],
      "execution_count": 332,
      "outputs": []
    },
    {
      "cell_type": "code",
      "metadata": {
        "id": "PsXGYz6-qupZ"
      },
      "source": [
        "idhTable = soup2.find(\"tbody\")"
      ],
      "execution_count": 333,
      "outputs": []
    },
    {
      "cell_type": "code",
      "metadata": {
        "id": "-mcqEOelqupa"
      },
      "source": [
        "idhs = []\n",
        "rows = idhTable.findAll('td')"
      ],
      "execution_count": 362,
      "outputs": []
    },
    {
      "cell_type": "code",
      "metadata": {
        "colab": {
          "base_uri": "https://localhost:8080/"
        },
        "id": "5J8NknhJF-Ge",
        "outputId": "204a6236-028e-4661-e59a-926bb1f8a0d8"
      },
      "source": [
        "rows.pop(148)"
      ],
      "execution_count": 363,
      "outputs": [
        {
          "output_type": "execute_result",
          "data": {
            "text/plain": [
              "<td colspan=\"3\">ALTO DESENVOLVIMENTO HUMANO</td>"
            ]
          },
          "metadata": {
            "tags": []
          },
          "execution_count": 363
        }
      ]
    },
    {
      "cell_type": "code",
      "metadata": {
        "colab": {
          "base_uri": "https://localhost:8080/"
        },
        "id": "VMyvXZRxGCY3",
        "outputId": "3d0530fb-757e-4ea5-fbf7-4fb8157090c9"
      },
      "source": [
        "rows.pop(316)"
      ],
      "execution_count": 364,
      "outputs": [
        {
          "output_type": "execute_result",
          "data": {
            "text/plain": [
              "<td colspan=\"3\">MÉDIO DESENVOLVIMENTO HUMANO</td>"
            ]
          },
          "metadata": {
            "tags": []
          },
          "execution_count": 364
        }
      ]
    },
    {
      "cell_type": "code",
      "metadata": {
        "id": "WVin9SSLqupc"
      },
      "source": [
        "rows_filtered = []"
      ],
      "execution_count": 365,
      "outputs": []
    },
    {
      "cell_type": "code",
      "metadata": {
        "id": "IeTz-2ffqupc"
      },
      "source": [
        "x = 0\n",
        "row_n = 1\n",
        "row = []\n",
        "for td in rows[1:]:\n",
        "    if row_n == 402:\n",
        "        break\n",
        "    if row_n != 148 | 316 :\n",
        "        td_replace = str(td).replace('<td>', '')\n",
        "        td_replace = td_replace.replace('</td>', '')\n",
        "        row.append(td_replace)\n",
        "        if x < 3:\n",
        "            x += 1\n",
        "        if x == 3:\n",
        "            rows_filtered.append(row)\n",
        "            row = []\n",
        "            x = 0\n",
        "    row_n +=1      "
      ],
      "execution_count": 366,
      "outputs": []
    },
    {
      "cell_type": "code",
      "metadata": {
        "colab": {
          "base_uri": "https://localhost:8080/"
        },
        "id": "DzlbAKrwqupd",
        "outputId": "4632ca3c-e2d3-47b4-efe0-3297f8e3f491"
      },
      "source": [
        "rows_filtered[10:20]"
      ],
      "execution_count": 367,
      "outputs": [
        {
          "output_type": "execute_result",
          "data": {
            "text/plain": [
              "[['11', 'Singapura', '0,912'],\n",
              " ['12', 'Hong Kong, China (SAR)', '0,910'],\n",
              " ['13', 'Liechtenstein', '0,908'],\n",
              " ['14', 'Suécia', '0,907'],\n",
              " ['14', 'Reino Unido', '0,907'],\n",
              " ['16', 'Islândia', '0,899'],\n",
              " ['17', 'Coreia (República da)', '0,898'],\n",
              " ['18', 'Israel', '0,894'],\n",
              " ['19', 'Luxemburgo', '0,892'],\n",
              " ['20', 'Japão', '0,891']]"
            ]
          },
          "metadata": {
            "tags": []
          },
          "execution_count": 367
        }
      ]
    },
    {
      "cell_type": "code",
      "metadata": {
        "id": "iTNw-mSdVMnx"
      },
      "source": [
        "for row in rows_filtered:\n",
        "  row[2] = float(row[2].replace(',','.'))"
      ],
      "execution_count": 385,
      "outputs": []
    },
    {
      "cell_type": "code",
      "metadata": {
        "id": "LdShejZDr540"
      },
      "source": [
        "idh_table = pd.DataFrame(rows_filtered,\n",
        "                         columns=['Pos','Pais','IDH'])"
      ],
      "execution_count": 386,
      "outputs": []
    },
    {
      "cell_type": "code",
      "metadata": {
        "colab": {
          "base_uri": "https://localhost:8080/",
          "height": 197
        },
        "id": "-viJqTCY02rL",
        "outputId": "a0a20425-3dcf-4bdd-e44e-74f5cd49d55d"
      },
      "source": [
        "idh_table.tail()"
      ],
      "execution_count": 387,
      "outputs": [
        {
          "output_type": "execute_result",
          "data": {
            "text/html": [
              "<div>\n",
              "<style scoped>\n",
              "    .dataframe tbody tr th:only-of-type {\n",
              "        vertical-align: middle;\n",
              "    }\n",
              "\n",
              "    .dataframe tbody tr th {\n",
              "        vertical-align: top;\n",
              "    }\n",
              "\n",
              "    .dataframe thead th {\n",
              "        text-align: right;\n",
              "    }\n",
              "</style>\n",
              "<table border=\"1\" class=\"dataframe\">\n",
              "  <thead>\n",
              "    <tr style=\"text-align: right;\">\n",
              "      <th></th>\n",
              "      <th>Pos</th>\n",
              "      <th>Pais</th>\n",
              "      <th>IDH</th>\n",
              "    </tr>\n",
              "  </thead>\n",
              "  <tbody>\n",
              "    <tr>\n",
              "      <th>128</th>\n",
              "      <td>129</td>\n",
              "      <td>Tajiquistão</td>\n",
              "      <td>0.624</td>\n",
              "    </tr>\n",
              "    <tr>\n",
              "      <th>129</th>\n",
              "      <td>130</td>\n",
              "      <td>Índia</td>\n",
              "      <td>0.609</td>\n",
              "    </tr>\n",
              "    <tr>\n",
              "      <th>130</th>\n",
              "      <td>131</td>\n",
              "      <td>Honduras</td>\n",
              "      <td>0.606</td>\n",
              "    </tr>\n",
              "    <tr>\n",
              "      <th>131</th>\n",
              "      <td>132</td>\n",
              "      <td>Butão</td>\n",
              "      <td>0.605</td>\n",
              "    </tr>\n",
              "    <tr>\n",
              "      <th>132</th>\n",
              "      <td>133</td>\n",
              "      <td>Timor-Leste</td>\n",
              "      <td>0.595</td>\n",
              "    </tr>\n",
              "  </tbody>\n",
              "</table>\n",
              "</div>"
            ],
            "text/plain": [
              "     Pos         Pais    IDH\n",
              "128  129  Tajiquistão  0.624\n",
              "129  130        Índia  0.609\n",
              "130  131     Honduras  0.606\n",
              "131  132        Butão  0.605\n",
              "132  133  Timor-Leste  0.595"
            ]
          },
          "metadata": {
            "tags": []
          },
          "execution_count": 387
        }
      ]
    },
    {
      "cell_type": "code",
      "metadata": {
        "id": "8JbqtnC2-pJx"
      },
      "source": [
        "idh_filter = ['Federação Russa','Turquia','Estados Unidos','Reino Unido','França','Itália','Espanha','Canadá','Brasil','Índia']"
      ],
      "execution_count": 388,
      "outputs": []
    },
    {
      "cell_type": "code",
      "metadata": {
        "id": "lOhBgVwg_nQn"
      },
      "source": [
        "filtered_countries = filterDf(idh_table,'Pais', idh_filter)"
      ],
      "execution_count": 389,
      "outputs": []
    },
    {
      "cell_type": "code",
      "metadata": {
        "colab": {
          "base_uri": "https://localhost:8080/",
          "height": 347
        },
        "id": "i7l_nNsR_1NR",
        "outputId": "fd1ca5d3-aa96-4523-af28-07937814c1a8"
      },
      "source": [
        "filtered_countries"
      ],
      "execution_count": 390,
      "outputs": [
        {
          "output_type": "execute_result",
          "data": {
            "text/html": [
              "<div>\n",
              "<style scoped>\n",
              "    .dataframe tbody tr th:only-of-type {\n",
              "        vertical-align: middle;\n",
              "    }\n",
              "\n",
              "    .dataframe tbody tr th {\n",
              "        vertical-align: top;\n",
              "    }\n",
              "\n",
              "    .dataframe thead th {\n",
              "        text-align: right;\n",
              "    }\n",
              "</style>\n",
              "<table border=\"1\" class=\"dataframe\">\n",
              "  <thead>\n",
              "    <tr style=\"text-align: right;\">\n",
              "      <th></th>\n",
              "      <th>Pos</th>\n",
              "      <th>Pais</th>\n",
              "      <th>IDH</th>\n",
              "    </tr>\n",
              "  </thead>\n",
              "  <tbody>\n",
              "    <tr>\n",
              "      <th>7</th>\n",
              "      <td>8</td>\n",
              "      <td>Estados Unidos</td>\n",
              "      <td>0.915</td>\n",
              "    </tr>\n",
              "    <tr>\n",
              "      <th>8</th>\n",
              "      <td>9</td>\n",
              "      <td>Canadá</td>\n",
              "      <td>0.913</td>\n",
              "    </tr>\n",
              "    <tr>\n",
              "      <th>14</th>\n",
              "      <td>14</td>\n",
              "      <td>Reino Unido</td>\n",
              "      <td>0.907</td>\n",
              "    </tr>\n",
              "    <tr>\n",
              "      <th>21</th>\n",
              "      <td>22</td>\n",
              "      <td>França</td>\n",
              "      <td>0.888</td>\n",
              "    </tr>\n",
              "    <tr>\n",
              "      <th>25</th>\n",
              "      <td>26</td>\n",
              "      <td>Espanha</td>\n",
              "      <td>0.876</td>\n",
              "    </tr>\n",
              "    <tr>\n",
              "      <th>26</th>\n",
              "      <td>27</td>\n",
              "      <td>Itália</td>\n",
              "      <td>0.873</td>\n",
              "    </tr>\n",
              "    <tr>\n",
              "      <th>50</th>\n",
              "      <td>50</td>\n",
              "      <td>Federação Russa</td>\n",
              "      <td>0.798</td>\n",
              "    </tr>\n",
              "    <tr>\n",
              "      <th>71</th>\n",
              "      <td>72</td>\n",
              "      <td>Turquia</td>\n",
              "      <td>0.761</td>\n",
              "    </tr>\n",
              "    <tr>\n",
              "      <th>74</th>\n",
              "      <td>75</td>\n",
              "      <td>Brasil</td>\n",
              "      <td>0.755</td>\n",
              "    </tr>\n",
              "    <tr>\n",
              "      <th>129</th>\n",
              "      <td>130</td>\n",
              "      <td>Índia</td>\n",
              "      <td>0.609</td>\n",
              "    </tr>\n",
              "  </tbody>\n",
              "</table>\n",
              "</div>"
            ],
            "text/plain": [
              "     Pos             Pais    IDH\n",
              "7      8   Estados Unidos  0.915\n",
              "8      9           Canadá  0.913\n",
              "14    14      Reino Unido  0.907\n",
              "21    22           França  0.888\n",
              "25    26          Espanha  0.876\n",
              "26    27           Itália  0.873\n",
              "50    50  Federação Russa  0.798\n",
              "71    72          Turquia  0.761\n",
              "74    75           Brasil  0.755\n",
              "129  130            Índia  0.609"
            ]
          },
          "metadata": {
            "tags": []
          },
          "execution_count": 390
        }
      ]
    },
    {
      "cell_type": "code",
      "metadata": {
        "colab": {
          "base_uri": "https://localhost:8080/"
        },
        "id": "2yzUkIt0XX86",
        "outputId": "9999a0df-919d-49db-dd53-0dc4a912f309"
      },
      "source": [
        "lista_idhs = list(filtered_countries.sort_values(['IDH'],ascending=False)['IDH'])\n",
        "lista_idhs"
      ],
      "execution_count": 441,
      "outputs": [
        {
          "output_type": "execute_result",
          "data": {
            "text/plain": [
              "[0.915, 0.913, 0.907, 0.888, 0.876, 0.873, 0.798, 0.761, 0.755, 0.609]"
            ]
          },
          "metadata": {
            "tags": []
          },
          "execution_count": 441
        }
      ]
    },
    {
      "cell_type": "code",
      "metadata": {
        "colab": {
          "base_uri": "https://localhost:8080/",
          "height": 502
        },
        "id": "szX0lLquUs6V",
        "outputId": "984aa092-9050-4f9b-c62d-45e0d628ff18"
      },
      "source": [
        "plt.figure(figsize=(12,8))\n",
        "sns.barplot(y='Pais', x='IDH', data=filtered_countries.sort_values(['IDH'], ascending=False))\n",
        "for i, v in enumerate(lista_idhs):\n",
        "     plt.text(v - 0.08, i, str(v), fontsize='medium')"
      ],
      "execution_count": 454,
      "outputs": [
        {
          "output_type": "display_data",
          "data": {
            "image/png": "[encoded data removed]",
            "text/plain": [
              "<Figure size 864x576 with 1 Axes>"
            ]
          },
          "metadata": {
            "tags": []
          }
        }
      ]
    }
  ]
}