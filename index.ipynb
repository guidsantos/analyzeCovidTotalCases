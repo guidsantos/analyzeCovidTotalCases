{
  "nbformat": 4,
  "nbformat_minor": 0,
  "metadata": {
    "colab": {
      "name": "index",
      "provenance": [],
      "collapsed_sections": [
        "gwWVAtjbohs_",
        "y5Te9xfZpuKD",
        "NhCMxZKVpy4Q",
        "ohm0bq0uvnAg",
        "J7wFnlV0xNVS"
      ],
      "toc_visible": true,
      "include_colab_link": true
    },
    "kernelspec": {
      "name": "python3",
      "display_name": "Python 3"
    },
    "language_info": {
      "name": "python"
    }
  },
  "cells": [
    {
      "cell_type": "markdown",
      "metadata": {
        "id": "view-in-github",
        "colab_type": "text"
      },
      "source": [
        "<a href=\"https://colab.research.google.com/github/guidsantos/analyzeCovidTotalCases/blob/main/index.ipynb\" target=\"_parent\"><img src=\"https://colab.research.google.com/assets/colab-badge.svg\" alt=\"Open In Colab\"/></a>"
      ]
    },
    {
      "cell_type": "markdown",
      "metadata": {
        "id": "gwWVAtjbohs_"
      },
      "source": [
        "#Bibliotecas importadas "
      ]
    },
    {
      "cell_type": "code",
      "metadata": {
        "id": "H53iBMf_nARl"
      },
      "source": [
        "import bs4 as bs\n",
        "import requests as req\n",
        "import html5lib as html"
      ],
      "execution_count": null,
      "outputs": []
    },
    {
      "cell_type": "code",
      "metadata": {
        "id": "VFuMO-9BFPB6"
      },
      "source": [
        "import pandas as pd\n",
        "import numpy as np"
      ],
      "execution_count": null,
      "outputs": []
    },
    {
      "cell_type": "code",
      "metadata": {
        "id": "dtBiRJtAFVFm"
      },
      "source": [
        "import seaborn as sns\n",
        "import matplotlib.pyplot as plt"
      ],
      "execution_count": null,
      "outputs": []
    },
    {
      "cell_type": "markdown",
      "metadata": {
        "id": "VbICekK6oofC"
      },
      "source": [
        "#Coleta de Dados "
      ]
    },
    {
      "cell_type": "markdown",
      "metadata": {
        "id": "y5Te9xfZpuKD"
      },
      "source": [
        "##Mineração de Dados do Artigo de casos de Covid-19"
      ]
    },
    {
      "cell_type": "code",
      "metadata": {
        "id": "zPxcMcZxnWLN"
      },
      "source": [
        "pagHtml = req.get(\"https://en.wikipedia.org/wiki/COVID-19_pandemic_by_country_and_territory\").text\n",
        "soup = bs.BeautifulSoup(pagHtml, 'html5lib')"
      ],
      "execution_count": null,
      "outputs": []
    },
    {
      "cell_type": "code",
      "metadata": {
        "id": "YVvp2O07s1IE"
      },
      "source": [
        "#Mortes Acumulativas\n",
        "div = soup.find('div', id=\"Monthly_cumulative_covid-19_death_totals_by_country\")\n",
        "table = div.find('table', id=\"thetable\")\n",
        "body = table.find('tbody')\n",
        "data_cumulative_deaths = body.find_all('tr')"
      ],
      "execution_count": null,
      "outputs": []
    },
    {
      "cell_type": "code",
      "metadata": {
        "colab": {
          "base_uri": "https://localhost:8080/"
        },
        "id": "d4eSiLjns7cy",
        "outputId": "e0a5a91b-7618-473f-9a6b-4624df9e3d48"
      },
      "source": [
        "#Casos Totais\n",
        "div2 = soup.find(\"div\", id=\"covid-19-pandemic-data\")\n",
        "trs = div2.findAll('tr')\n",
        "trs[2].get_text()"
      ],
      "execution_count": null,
      "outputs": [
        {
          "output_type": "execute_result",
          "data": {
            "application/vnd.google.colaboratory.intrinsic+json": {
              "type": "string"
            },
            "text/plain": [
              "'\\n\\n\\nUnited States[f]\\n\\n33,264,825\\n\\n594,827\\n\\nNo data\\n\\n[16]\\n'"
            ]
          },
          "metadata": {
            "tags": []
          },
          "execution_count": 38
        }
      ]
    },
    {
      "cell_type": "code",
      "metadata": {
        "id": "WLZ6tq_5wreH"
      },
      "source": [
        "#Taxas de Morte\n",
        "div3 = soup.find('div', id=\"covid-19-pandemic-death-rates\")\n",
        "table2 = div3.find('table', id=\"thetable\")\n",
        "body2 = table2.find('tbody')\n",
        "data_death_rates = body2.find_all('tr')"
      ],
      "execution_count": null,
      "outputs": []
    },
    {
      "cell_type": "markdown",
      "metadata": {
        "id": "NhCMxZKVpy4Q"
      },
      "source": [
        "##Mineração de Dados do IDH de cada país"
      ]
    },
    {
      "cell_type": "code",
      "metadata": {
        "id": "tD-UkN5Sp2Xw"
      },
      "source": [
        "pagHtml2 = req.get(\"https://www.br.undp.org/content/brazil/pt/home/idh0/rankings/idh-global.html\").text\n",
        "soup2 = bs.BeautifulSoup(pagHtml2, 'html5lib')\n",
        "idhTable = soup2.find(\"tbody\")\n",
        "rows = idhTable.findAll('td')"
      ],
      "execution_count": null,
      "outputs": []
    },
    {
      "cell_type": "code",
      "metadata": {
        "colab": {
          "base_uri": "https://localhost:8080/"
        },
        "id": "vWwxVnubqB-Y",
        "outputId": "7b9cc0f9-369e-4fec-8f7f-716b6c5ea1e3"
      },
      "source": [
        "rows.pop(148)\n",
        "rows.pop(316)\n",
        "rows.pop(433)"
      ],
      "execution_count": null,
      "outputs": [
        {
          "output_type": "execute_result",
          "data": {
            "text/plain": [
              "<td colspan=\"3\">BAIXO DESENVOLVIMENTO HUMANO</td>"
            ]
          },
          "metadata": {
            "tags": []
          },
          "execution_count": 41
        }
      ]
    },
    {
      "cell_type": "markdown",
      "metadata": {
        "id": "84fZID9To0fZ"
      },
      "source": [
        "##Criando Data Frames\n",
        "   "
      ]
    },
    {
      "cell_type": "markdown",
      "metadata": {
        "id": "4TJ6HvYBpXsZ"
      },
      "source": [
        "###Total de mortes de COVID-19 por país acumuladas mensalmente "
      ]
    },
    {
      "cell_type": "code",
      "metadata": {
        "id": "vkzdwLyHnXqA"
      },
      "source": [
        "Lista = []\n",
        "n = 0\n",
        "while True:\n",
        "  n += 1\n",
        "  tds = data_cumulative_deaths[n].findAll('td')\n",
        "  for i in range(len(tds)):\n",
        "    tds_text = tds[i].getText()\n",
        "    tds_text = tds_text.rstrip('\\n')\n",
        "    Lista.append(tds_text)\n",
        "    Lista = [x for x in Lista if pd.isnull(x) == False]\n",
        "  if n == (len(data_cumulative_deaths)-1):\n",
        "    break"
      ],
      "execution_count": null,
      "outputs": []
    },
    {
      "cell_type": "code",
      "metadata": {
        "id": "tjtaz2cknclr"
      },
      "source": [
        "df_c19 = pd.DataFrame(np.array(Lista))\n",
        "df_c19 = pd.DataFrame(np.array(Lista).reshape(200,13))\n",
        "df_c19 = df_c19.rename(columns = {0: '2020', 1: 'Jan', 2: 'Fev', 3: 'Mar', 4:'Abr', 5:'Mai', 6:'Jun', 7:'Jul', 8:'Aug', 9:'Sep', 10:'Out', 11:'Nov', 12:'Dez'})"
      ],
      "execution_count": null,
      "outputs": []
    },
    {
      "cell_type": "code",
      "metadata": {
        "id": "Ez40OBA1nkKy"
      },
      "source": [
        "months = ['Jan','Fev','Mar','Abr','Mai','Jun', 'Jul', 'Aug', 'Sep', 'Out', 'Nov', 'Dez']\n",
        "for month in months:\n",
        "  df_c19[month] = df_c19[month].str.replace(',', '')\n",
        "  df_c19[month] = df_c19[month].astype(int)"
      ],
      "execution_count": null,
      "outputs": []
    },
    {
      "cell_type": "code",
      "metadata": {
        "colab": {
          "base_uri": "https://localhost:8080/"
        },
        "id": "FsQvowlxoEfN",
        "outputId": "3acc59bf-3280-4408-e5f6-ea342d01cd4e"
      },
      "source": [
        "df_c19_cumulative = df_c19.drop(index=1)\n",
        "df_c19_cumulative = df_c19_cumulative.drop(index=2)\n",
        "display(df_c19_cumulative)"
      ],
      "execution_count": null,
      "outputs": [
        {
          "output_type": "display_data",
          "data": {
            "text/html": [
              "<div>\n",
              "<style scoped>\n",
              "    .dataframe tbody tr th:only-of-type {\n",
              "        vertical-align: middle;\n",
              "    }\n",
              "\n",
              "    .dataframe tbody tr th {\n",
              "        vertical-align: top;\n",
              "    }\n",
              "\n",
              "    .dataframe thead th {\n",
              "        text-align: right;\n",
              "    }\n",
              "</style>\n",
              "<table border=\"1\" class=\"dataframe\">\n",
              "  <thead>\n",
              "    <tr style=\"text-align: right;\">\n",
              "      <th></th>\n",
              "      <th>2020</th>\n",
              "      <th>Jan</th>\n",
              "      <th>Fev</th>\n",
              "      <th>Mar</th>\n",
              "      <th>Abr</th>\n",
              "      <th>Mai</th>\n",
              "      <th>Jun</th>\n",
              "      <th>Jul</th>\n",
              "      <th>Aug</th>\n",
              "      <th>Sep</th>\n",
              "      <th>Out</th>\n",
              "      <th>Nov</th>\n",
              "      <th>Dez</th>\n",
              "    </tr>\n",
              "  </thead>\n",
              "  <tbody>\n",
              "    <tr>\n",
              "      <th>0</th>\n",
              "      <td>World</td>\n",
              "      <td>1</td>\n",
              "      <td>259</td>\n",
              "      <td>2977</td>\n",
              "      <td>40598</td>\n",
              "      <td>224172</td>\n",
              "      <td>371166</td>\n",
              "      <td>508055</td>\n",
              "      <td>675060</td>\n",
              "      <td>848445</td>\n",
              "      <td>1010639</td>\n",
              "      <td>1192911</td>\n",
              "      <td>1465144</td>\n",
              "    </tr>\n",
              "    <tr>\n",
              "      <th>3</th>\n",
              "      <td>USA</td>\n",
              "      <td>0</td>\n",
              "      <td>0</td>\n",
              "      <td>0</td>\n",
              "      <td>2850</td>\n",
              "      <td>55337</td>\n",
              "      <td>102640</td>\n",
              "      <td>126573</td>\n",
              "      <td>151265</td>\n",
              "      <td>182162</td>\n",
              "      <td>204642</td>\n",
              "      <td>228185</td>\n",
              "      <td>264808</td>\n",
              "    </tr>\n",
              "    <tr>\n",
              "      <th>4</th>\n",
              "      <td>Brazil</td>\n",
              "      <td>0</td>\n",
              "      <td>0</td>\n",
              "      <td>0</td>\n",
              "      <td>159</td>\n",
              "      <td>5466</td>\n",
              "      <td>28834</td>\n",
              "      <td>58314</td>\n",
              "      <td>91263</td>\n",
              "      <td>120828</td>\n",
              "      <td>142921</td>\n",
              "      <td>159477</td>\n",
              "      <td>172833</td>\n",
              "    </tr>\n",
              "    <tr>\n",
              "      <th>5</th>\n",
              "      <td>India</td>\n",
              "      <td>0</td>\n",
              "      <td>0</td>\n",
              "      <td>0</td>\n",
              "      <td>38</td>\n",
              "      <td>1147</td>\n",
              "      <td>5394</td>\n",
              "      <td>17400</td>\n",
              "      <td>36511</td>\n",
              "      <td>65288</td>\n",
              "      <td>98678</td>\n",
              "      <td>122111</td>\n",
              "      <td>137621</td>\n",
              "    </tr>\n",
              "    <tr>\n",
              "      <th>6</th>\n",
              "      <td>Mexico</td>\n",
              "      <td>0</td>\n",
              "      <td>0</td>\n",
              "      <td>0</td>\n",
              "      <td>28</td>\n",
              "      <td>1732</td>\n",
              "      <td>9779</td>\n",
              "      <td>27121</td>\n",
              "      <td>46000</td>\n",
              "      <td>64158</td>\n",
              "      <td>77163</td>\n",
              "      <td>91289</td>\n",
              "      <td>105655</td>\n",
              "    </tr>\n",
              "    <tr>\n",
              "      <th>...</th>\n",
              "      <td>...</td>\n",
              "      <td>...</td>\n",
              "      <td>...</td>\n",
              "      <td>...</td>\n",
              "      <td>...</td>\n",
              "      <td>...</td>\n",
              "      <td>...</td>\n",
              "      <td>...</td>\n",
              "      <td>...</td>\n",
              "      <td>...</td>\n",
              "      <td>...</td>\n",
              "      <td>...</td>\n",
              "      <td>...</td>\n",
              "    </tr>\n",
              "    <tr>\n",
              "      <th>195</th>\n",
              "      <td>Fiji</td>\n",
              "      <td>0</td>\n",
              "      <td>0</td>\n",
              "      <td>0</td>\n",
              "      <td>0</td>\n",
              "      <td>0</td>\n",
              "      <td>0</td>\n",
              "      <td>0</td>\n",
              "      <td>1</td>\n",
              "      <td>2</td>\n",
              "      <td>2</td>\n",
              "      <td>2</td>\n",
              "      <td>2</td>\n",
              "    </tr>\n",
              "    <tr>\n",
              "      <th>196</th>\n",
              "      <td>Saint Lucia</td>\n",
              "      <td>0</td>\n",
              "      <td>0</td>\n",
              "      <td>0</td>\n",
              "      <td>0</td>\n",
              "      <td>0</td>\n",
              "      <td>0</td>\n",
              "      <td>0</td>\n",
              "      <td>0</td>\n",
              "      <td>0</td>\n",
              "      <td>0</td>\n",
              "      <td>0</td>\n",
              "      <td>2</td>\n",
              "    </tr>\n",
              "    <tr>\n",
              "      <th>197</th>\n",
              "      <td>British Virgin Islands</td>\n",
              "      <td>0</td>\n",
              "      <td>0</td>\n",
              "      <td>0</td>\n",
              "      <td>0</td>\n",
              "      <td>1</td>\n",
              "      <td>1</td>\n",
              "      <td>1</td>\n",
              "      <td>1</td>\n",
              "      <td>1</td>\n",
              "      <td>1</td>\n",
              "      <td>1</td>\n",
              "      <td>1</td>\n",
              "    </tr>\n",
              "    <tr>\n",
              "      <th>198</th>\n",
              "      <td>Burundi</td>\n",
              "      <td>0</td>\n",
              "      <td>0</td>\n",
              "      <td>0</td>\n",
              "      <td>0</td>\n",
              "      <td>1</td>\n",
              "      <td>1</td>\n",
              "      <td>1</td>\n",
              "      <td>1</td>\n",
              "      <td>1</td>\n",
              "      <td>1</td>\n",
              "      <td>1</td>\n",
              "      <td>1</td>\n",
              "    </tr>\n",
              "    <tr>\n",
              "      <th>199</th>\n",
              "      <td>Montserrat</td>\n",
              "      <td>0</td>\n",
              "      <td>0</td>\n",
              "      <td>0</td>\n",
              "      <td>0</td>\n",
              "      <td>1</td>\n",
              "      <td>1</td>\n",
              "      <td>1</td>\n",
              "      <td>1</td>\n",
              "      <td>1</td>\n",
              "      <td>1</td>\n",
              "      <td>1</td>\n",
              "      <td>1</td>\n",
              "    </tr>\n",
              "  </tbody>\n",
              "</table>\n",
              "<p>198 rows × 13 columns</p>\n",
              "</div>"
            ],
            "text/plain": [
              "                        2020  Jan  Fev   Mar  ...     Sep      Out      Nov      Dez\n",
              "0                      World    1  259  2977  ...  848445  1010639  1192911  1465144\n",
              "3                        USA    0    0     0  ...  182162   204642   228185   264808\n",
              "4                     Brazil    0    0     0  ...  120828   142921   159477   172833\n",
              "5                      India    0    0     0  ...   65288    98678   122111   137621\n",
              "6                     Mexico    0    0     0  ...   64158    77163    91289   105655\n",
              "..                       ...  ...  ...   ...  ...     ...      ...      ...      ...\n",
              "195                     Fiji    0    0     0  ...       2        2        2        2\n",
              "196              Saint Lucia    0    0     0  ...       0        0        0        2\n",
              "197   British Virgin Islands    0    0     0  ...       1        1        1        1\n",
              "198                  Burundi    0    0     0  ...       1        1        1        1\n",
              "199               Montserrat    0    0     0  ...       1        1        1        1\n",
              "\n",
              "[198 rows x 13 columns]"
            ]
          },
          "metadata": {
            "tags": []
          }
        }
      ]
    },
    {
      "cell_type": "code",
      "metadata": {
        "colab": {
          "base_uri": "https://localhost:8080/"
        },
        "id": "Z3RQfCaflBH_",
        "outputId": "bfa8a805-70c2-47e4-83bb-c02440a35143"
      },
      "source": [
        "coronaMundo = df_c19_cumulative[0:1]\n",
        "coronaMundo.drop(axis=0, columns='2020')"
      ],
      "execution_count": null,
      "outputs": [
        {
          "output_type": "execute_result",
          "data": {
            "text/html": [
              "<div>\n",
              "<style scoped>\n",
              "    .dataframe tbody tr th:only-of-type {\n",
              "        vertical-align: middle;\n",
              "    }\n",
              "\n",
              "    .dataframe tbody tr th {\n",
              "        vertical-align: top;\n",
              "    }\n",
              "\n",
              "    .dataframe thead th {\n",
              "        text-align: right;\n",
              "    }\n",
              "</style>\n",
              "<table border=\"1\" class=\"dataframe\">\n",
              "  <thead>\n",
              "    <tr style=\"text-align: right;\">\n",
              "      <th></th>\n",
              "      <th>Jan</th>\n",
              "      <th>Fev</th>\n",
              "      <th>Mar</th>\n",
              "      <th>Abr</th>\n",
              "      <th>Mai</th>\n",
              "      <th>Jun</th>\n",
              "      <th>Jul</th>\n",
              "      <th>Aug</th>\n",
              "      <th>Sep</th>\n",
              "      <th>Out</th>\n",
              "      <th>Nov</th>\n",
              "      <th>Dez</th>\n",
              "    </tr>\n",
              "  </thead>\n",
              "  <tbody>\n",
              "    <tr>\n",
              "      <th>0</th>\n",
              "      <td>1</td>\n",
              "      <td>259</td>\n",
              "      <td>2977</td>\n",
              "      <td>40598</td>\n",
              "      <td>224172</td>\n",
              "      <td>371166</td>\n",
              "      <td>508055</td>\n",
              "      <td>675060</td>\n",
              "      <td>848445</td>\n",
              "      <td>1010639</td>\n",
              "      <td>1192911</td>\n",
              "      <td>1465144</td>\n",
              "    </tr>\n",
              "  </tbody>\n",
              "</table>\n",
              "</div>"
            ],
            "text/plain": [
              "   Jan  Fev   Mar    Abr     Mai  ...     Aug     Sep      Out      Nov      Dez\n",
              "0    1  259  2977  40598  224172  ...  675060  848445  1010639  1192911  1465144\n",
              "\n",
              "[1 rows x 12 columns]"
            ]
          },
          "metadata": {
            "tags": []
          },
          "execution_count": 46
        }
      ]
    },
    {
      "cell_type": "markdown",
      "metadata": {
        "id": "ohm0bq0uvnAg"
      },
      "source": [
        "###Casos Totais Covid19\n"
      ]
    },
    {
      "cell_type": "code",
      "metadata": {
        "id": "Twk0lCWOvuEN"
      },
      "source": [
        "trsValues = []\n",
        "for tr in trs:\n",
        "    trText = tr.get_text()\n",
        "    trText = trText.replace(',', '.')\n",
        "    trText2 = trText.replace('\\n\\n\\n', '')  \n",
        "    trText3 = trText2.replace('\\n\\n', ',')\n",
        "    trText4 = trText3.replace('\\n', '')\n",
        "    trText5 = trText4.replace(trText4[trText4.find(\"[\"):trText4.find(\"]\")+1], '').strip()\n",
        "    trTextList = trText5.split(',') \n",
        "    trsValues.append(trTextList)"
      ],
      "execution_count": null,
      "outputs": []
    },
    {
      "cell_type": "code",
      "metadata": {
        "id": "sQUwewfvvuw5"
      },
      "source": [
        "location = []\n",
        "cases = []\n",
        "deaths = []\n",
        "recov = []\n",
        "\n",
        "for x in range(len(trsValues)-3):\n",
        "   location.append(trsValues[x+1][0])\n",
        "   cases.append(trsValues[x+1][1])\n",
        "   deaths.append(trsValues[x+1][2])\n",
        "   recov.append(trsValues[x+1][3])"
      ],
      "execution_count": null,
      "outputs": []
    },
    {
      "cell_type": "code",
      "metadata": {
        "id": "1qmMunTmvw_O"
      },
      "source": [
        "df_casos_totais = pd.DataFrame(np.column_stack([location, cases, deaths,recov ]), \n",
        "                               columns=['Location', 'Cases', 'Deaths', 'Recovery'])"
      ],
      "execution_count": null,
      "outputs": []
    },
    {
      "cell_type": "code",
      "metadata": {
        "colab": {
          "base_uri": "https://localhost:8080/"
        },
        "id": "7vIl1d1nvyiW",
        "outputId": "ab4928e1-2c18-44ae-cf2b-c7ef250767e7"
      },
      "source": [
        "display(df_casos_totais)"
      ],
      "execution_count": null,
      "outputs": [
        {
          "output_type": "display_data",
          "data": {
            "text/html": [
              "<div>\n",
              "<style scoped>\n",
              "    .dataframe tbody tr th:only-of-type {\n",
              "        vertical-align: middle;\n",
              "    }\n",
              "\n",
              "    .dataframe tbody tr th {\n",
              "        vertical-align: top;\n",
              "    }\n",
              "\n",
              "    .dataframe thead th {\n",
              "        text-align: right;\n",
              "    }\n",
              "</style>\n",
              "<table border=\"1\" class=\"dataframe\">\n",
              "  <thead>\n",
              "    <tr style=\"text-align: right;\">\n",
              "      <th></th>\n",
              "      <th>Location</th>\n",
              "      <th>Cases</th>\n",
              "      <th>Deaths</th>\n",
              "      <th>Recovery</th>\n",
              "    </tr>\n",
              "  </thead>\n",
              "  <tbody>\n",
              "    <tr>\n",
              "      <th>0</th>\n",
              "      <td>World</td>\n",
              "      <td>166.195.983</td>\n",
              "      <td>3.444.498</td>\n",
              "      <td>No data</td>\n",
              "    </tr>\n",
              "    <tr>\n",
              "      <th>1</th>\n",
              "      <td>United States</td>\n",
              "      <td>33.264.825</td>\n",
              "      <td>594.827</td>\n",
              "      <td>No data</td>\n",
              "    </tr>\n",
              "    <tr>\n",
              "      <th>2</th>\n",
              "      <td>India</td>\n",
              "      <td>26.289.290</td>\n",
              "      <td>295.525</td>\n",
              "      <td>23.070.365</td>\n",
              "    </tr>\n",
              "    <tr>\n",
              "      <th>3</th>\n",
              "      <td>Brazil</td>\n",
              "      <td>15.970.949</td>\n",
              "      <td>446.309</td>\n",
              "      <td>14.422.209</td>\n",
              "    </tr>\n",
              "    <tr>\n",
              "      <th>4</th>\n",
              "      <td>France</td>\n",
              "      <td>5.581.351</td>\n",
              "      <td>108.466</td>\n",
              "      <td>No data</td>\n",
              "    </tr>\n",
              "    <tr>\n",
              "      <th>...</th>\n",
              "      <td>...</td>\n",
              "      <td>...</td>\n",
              "      <td>...</td>\n",
              "      <td>...</td>\n",
              "    </tr>\n",
              "    <tr>\n",
              "      <th>237</th>\n",
              "      <td>Samoa</td>\n",
              "      <td>4</td>\n",
              "      <td>0</td>\n",
              "      <td>2</td>\n",
              "    </tr>\n",
              "    <tr>\n",
              "      <th>238</th>\n",
              "      <td>Vanuatu</td>\n",
              "      <td>3</td>\n",
              "      <td>0</td>\n",
              "      <td>3</td>\n",
              "    </tr>\n",
              "    <tr>\n",
              "      <th>239</th>\n",
              "      <td>Kiribati</td>\n",
              "      <td>2</td>\n",
              "      <td>0</td>\n",
              "      <td>0</td>\n",
              "    </tr>\n",
              "    <tr>\n",
              "      <th>240</th>\n",
              "      <td>Federated States of Micronesia</td>\n",
              "      <td>1</td>\n",
              "      <td>0</td>\n",
              "      <td>1</td>\n",
              "    </tr>\n",
              "    <tr>\n",
              "      <th>241</th>\n",
              "      <td>Tanzania</td>\n",
              "      <td>No data</td>\n",
              "      <td>No data</td>\n",
              "      <td>No data</td>\n",
              "    </tr>\n",
              "  </tbody>\n",
              "</table>\n",
              "<p>242 rows × 4 columns</p>\n",
              "</div>"
            ],
            "text/plain": [
              "                           Location        Cases     Deaths    Recovery\n",
              "0                             World  166.195.983  3.444.498     No data\n",
              "1                     United States   33.264.825    594.827     No data\n",
              "2                             India   26.289.290    295.525  23.070.365\n",
              "3                            Brazil   15.970.949    446.309  14.422.209\n",
              "4                            France    5.581.351    108.466     No data\n",
              "..                              ...          ...        ...         ...\n",
              "237                           Samoa            4          0           2\n",
              "238                         Vanuatu            3          0           3\n",
              "239                        Kiribati            2          0           0\n",
              "240  Federated States of Micronesia            1          0           1\n",
              "241                        Tanzania      No data    No data     No data\n",
              "\n",
              "[242 rows x 4 columns]"
            ]
          },
          "metadata": {
            "tags": []
          }
        }
      ]
    },
    {
      "cell_type": "markdown",
      "metadata": {
        "id": "J7wFnlV0xNVS"
      },
      "source": [
        "###Pandemia Covid19 Taxas de Morte"
      ]
    },
    {
      "cell_type": "code",
      "metadata": {
        "id": "uSxT-_PBy0XL"
      },
      "source": [
        "Lista2 = []\n",
        "n = 0\n",
        "while True:\n",
        "  n += 1\n",
        "  tds = data_death_rates[n].findAll('td')\n",
        "  for i in range(len(tds)):\n",
        "    tds_text = tds[i].getText()\n",
        "    tds_text = tds_text.rstrip('\\n')\n",
        "    tds_text = tds_text.replace('\\xa0','')\n",
        "    tds_text = tds_text.replace(',','')\n",
        "    tds_text = tds_text.replace('%','')\n",
        "    Lista2.append(tds_text)\n",
        "    Lista2 = [x for x in Lista2 if pd.isnull(x) == False]\n",
        "  if n == (len(data_death_rates)-1):\n",
        "    break"
      ],
      "execution_count": null,
      "outputs": []
    },
    {
      "cell_type": "code",
      "metadata": {
        "colab": {
          "base_uri": "https://localhost:8080/",
          "height": 433
        },
        "id": "TyMprjUFDRM1",
        "outputId": "d7656a20-b32c-4275-8388-2be55dcebfdb"
      },
      "source": [
        "df_c19_death_rates = pd.DataFrame(np.array(Lista2))\n",
        "df_c19_death_rates = pd.DataFrame(np.array(Lista2).reshape(179,5))\n",
        "df_c19_death_rates = df_c19_death_rates.rename(columns = {0: 'Paises', 1: 'Total Casos', 2: 'Total Mortes', 3: 'Letalidade', 4:'Mortes/100.000'})\n",
        "\n",
        "df_c19_death_rates['Total Casos'] = df_c19_death_rates['Total Casos'].astype(int)\n",
        "df_c19_death_rates['Total Mortes'] = df_c19_death_rates['Total Mortes'].astype(int)\n",
        "df_c19_death_rates['Mortes/100.000'] = df_c19_death_rates['Mortes/100.000'].astype(float)\n",
        "df_c19_death_rates['Letalidade'] = df_c19_death_rates['Letalidade'].astype(float)\n",
        "\n",
        "print(display(df_c19_death_rates))"
      ],
      "execution_count": null,
      "outputs": [
        {
          "output_type": "display_data",
          "data": {
            "text/html": [
              "<div>\n",
              "<style scoped>\n",
              "    .dataframe tbody tr th:only-of-type {\n",
              "        vertical-align: middle;\n",
              "    }\n",
              "\n",
              "    .dataframe tbody tr th {\n",
              "        vertical-align: top;\n",
              "    }\n",
              "\n",
              "    .dataframe thead th {\n",
              "        text-align: right;\n",
              "    }\n",
              "</style>\n",
              "<table border=\"1\" class=\"dataframe\">\n",
              "  <thead>\n",
              "    <tr style=\"text-align: right;\">\n",
              "      <th></th>\n",
              "      <th>Paises</th>\n",
              "      <th>Total Casos</th>\n",
              "      <th>Total Mortes</th>\n",
              "      <th>Letalidade</th>\n",
              "      <th>Mortes/100.000</th>\n",
              "    </tr>\n",
              "  </thead>\n",
              "  <tbody>\n",
              "    <tr>\n",
              "      <th>0</th>\n",
              "      <td>Hungary</td>\n",
              "      <td>801025</td>\n",
              "      <td>29427</td>\n",
              "      <td>3.7</td>\n",
              "      <td>301.20</td>\n",
              "    </tr>\n",
              "    <tr>\n",
              "      <th>1</th>\n",
              "      <td>Czech Republic</td>\n",
              "      <td>1656874</td>\n",
              "      <td>29990</td>\n",
              "      <td>1.8</td>\n",
              "      <td>281.08</td>\n",
              "    </tr>\n",
              "    <tr>\n",
              "      <th>2</th>\n",
              "      <td>Bosnia and Herzegovina</td>\n",
              "      <td>203150</td>\n",
              "      <td>9108</td>\n",
              "      <td>4.5</td>\n",
              "      <td>275.92</td>\n",
              "    </tr>\n",
              "    <tr>\n",
              "      <th>3</th>\n",
              "      <td>San Marino</td>\n",
              "      <td>5087</td>\n",
              "      <td>90</td>\n",
              "      <td>1.8</td>\n",
              "      <td>265.80</td>\n",
              "    </tr>\n",
              "    <tr>\n",
              "      <th>4</th>\n",
              "      <td>North Macedonia</td>\n",
              "      <td>154982</td>\n",
              "      <td>5280</td>\n",
              "      <td>3.4</td>\n",
              "      <td>253.42</td>\n",
              "    </tr>\n",
              "    <tr>\n",
              "      <th>...</th>\n",
              "      <td>...</td>\n",
              "      <td>...</td>\n",
              "      <td>...</td>\n",
              "      <td>...</td>\n",
              "      <td>...</td>\n",
              "    </tr>\n",
              "    <tr>\n",
              "      <th>174</th>\n",
              "      <td>Taiwan</td>\n",
              "      <td>3139</td>\n",
              "      <td>15</td>\n",
              "      <td>0.5</td>\n",
              "      <td>0.06</td>\n",
              "    </tr>\n",
              "    <tr>\n",
              "      <th>175</th>\n",
              "      <td>Burundi</td>\n",
              "      <td>4451</td>\n",
              "      <td>6</td>\n",
              "      <td>0.1</td>\n",
              "      <td>0.05</td>\n",
              "    </tr>\n",
              "    <tr>\n",
              "      <th>176</th>\n",
              "      <td>Tanzania</td>\n",
              "      <td>509</td>\n",
              "      <td>21</td>\n",
              "      <td>4.1</td>\n",
              "      <td>0.04</td>\n",
              "    </tr>\n",
              "    <tr>\n",
              "      <th>177</th>\n",
              "      <td>Vietnam</td>\n",
              "      <td>4941</td>\n",
              "      <td>41</td>\n",
              "      <td>0.8</td>\n",
              "      <td>0.04</td>\n",
              "    </tr>\n",
              "    <tr>\n",
              "      <th>178</th>\n",
              "      <td>Eritrea</td>\n",
              "      <td>3921</td>\n",
              "      <td>14</td>\n",
              "      <td>0.4</td>\n",
              "      <td>NaN</td>\n",
              "    </tr>\n",
              "  </tbody>\n",
              "</table>\n",
              "<p>179 rows × 5 columns</p>\n",
              "</div>"
            ],
            "text/plain": [
              "                     Paises  Total Casos  ...  Letalidade  Mortes/100.000\n",
              "0                   Hungary       801025  ...         3.7          301.20\n",
              "1            Czech Republic      1656874  ...         1.8          281.08\n",
              "2    Bosnia and Herzegovina       203150  ...         4.5          275.92\n",
              "3                San Marino         5087  ...         1.8          265.80\n",
              "4           North Macedonia       154982  ...         3.4          253.42\n",
              "..                      ...          ...  ...         ...             ...\n",
              "174                  Taiwan         3139  ...         0.5            0.06\n",
              "175                 Burundi         4451  ...         0.1            0.05\n",
              "176                Tanzania          509  ...         4.1            0.04\n",
              "177                 Vietnam         4941  ...         0.8            0.04\n",
              "178                 Eritrea         3921  ...         0.4             NaN\n",
              "\n",
              "[179 rows x 5 columns]"
            ]
          },
          "metadata": {
            "tags": []
          }
        },
        {
          "output_type": "stream",
          "text": [
            "None\n"
          ],
          "name": "stdout"
        }
      ]
    },
    {
      "cell_type": "markdown",
      "metadata": {
        "id": "Y4Bj6t36q6CC"
      },
      "source": [
        "###IDH's de todos países"
      ]
    },
    {
      "cell_type": "code",
      "metadata": {
        "colab": {
          "base_uri": "https://localhost:8080/"
        },
        "id": "f35a3l8Bqeqa",
        "outputId": "52011a97-afc9-4eb5-faab-21fb46038390"
      },
      "source": [
        "rows_filtered = []\n",
        "x = 0\n",
        "row_n = 1\n",
        "row = []\n",
        "for td in rows[1:]:\n",
        "    if row_n == 447:\n",
        "        break\n",
        "    if row_n < 447:\n",
        "        td_replace = str(td).replace('<td>', '')\n",
        "        td_replace = td_replace.replace(',','.')\n",
        "        td_replace = td_replace.replace('</td>', '')\n",
        "        row.append(td_replace)\n",
        "        if x < 3:\n",
        "            x += 1\n",
        "        if x == 3:\n",
        "            rows_filtered.append(row)\n",
        "            row = []\n",
        "            x = 0\n",
        "    if row_n == 147 | 317 :\n",
        "      print(td)\n",
        "    row_n +=1  \n",
        "rows_filtered[-10:]"
      ],
      "execution_count": null,
      "outputs": [
        {
          "output_type": "execute_result",
          "data": {
            "text/plain": [
              "[['139', 'Zâmbia', '0.586'],\n",
              " ['140', 'Gana', '0.579'],\n",
              " ['141', 'Laos. República Democrática Popular do', '0.575'],\n",
              " ['142', 'Bangladesh', '0.570'],\n",
              " ['143', 'Camboja', '0.555'],\n",
              " ['143', 'São Tomé e Príncipe', '0.555'],\n",
              " ['145', 'Quênia', '0.548'],\n",
              " ['145', 'Nepal', '0.548'],\n",
              " ['147', 'Paquistão', '0.538'],\n",
              " ['148', 'Mianmar', '0.536']]"
            ]
          },
          "metadata": {
            "tags": []
          },
          "execution_count": 53
        }
      ]
    },
    {
      "cell_type": "code",
      "metadata": {
        "id": "lzjKWjBYqif8"
      },
      "source": [
        "for row in rows_filtered:\n",
        "  row[2] = float(row[2])"
      ],
      "execution_count": null,
      "outputs": []
    },
    {
      "cell_type": "code",
      "metadata": {
        "id": "X7nvXz0Pqn1E"
      },
      "source": [
        "df_idh = pd.DataFrame(rows_filtered,\n",
        "                         columns=['Pos','Pais','IDH'])"
      ],
      "execution_count": null,
      "outputs": []
    },
    {
      "cell_type": "code",
      "metadata": {
        "colab": {
          "base_uri": "https://localhost:8080/"
        },
        "id": "nBDnPKCyqpJE",
        "outputId": "7ecefaca-e448-47a3-df63-f9f2da8b93b0"
      },
      "source": [
        "display(df_idh)"
      ],
      "execution_count": null,
      "outputs": [
        {
          "output_type": "display_data",
          "data": {
            "text/html": [
              "<div>\n",
              "<style scoped>\n",
              "    .dataframe tbody tr th:only-of-type {\n",
              "        vertical-align: middle;\n",
              "    }\n",
              "\n",
              "    .dataframe tbody tr th {\n",
              "        vertical-align: top;\n",
              "    }\n",
              "\n",
              "    .dataframe thead th {\n",
              "        text-align: right;\n",
              "    }\n",
              "</style>\n",
              "<table border=\"1\" class=\"dataframe\">\n",
              "  <thead>\n",
              "    <tr style=\"text-align: right;\">\n",
              "      <th></th>\n",
              "      <th>Pos</th>\n",
              "      <th>Pais</th>\n",
              "      <th>IDH</th>\n",
              "    </tr>\n",
              "  </thead>\n",
              "  <tbody>\n",
              "    <tr>\n",
              "      <th>0</th>\n",
              "      <td>1</td>\n",
              "      <td>Noruega</td>\n",
              "      <td>0.944</td>\n",
              "    </tr>\n",
              "    <tr>\n",
              "      <th>1</th>\n",
              "      <td>2</td>\n",
              "      <td>Austrália</td>\n",
              "      <td>0.935</td>\n",
              "    </tr>\n",
              "    <tr>\n",
              "      <th>2</th>\n",
              "      <td>3</td>\n",
              "      <td>Suíça</td>\n",
              "      <td>0.930</td>\n",
              "    </tr>\n",
              "    <tr>\n",
              "      <th>3</th>\n",
              "      <td>4</td>\n",
              "      <td>Dinamarca</td>\n",
              "      <td>0.923</td>\n",
              "    </tr>\n",
              "    <tr>\n",
              "      <th>4</th>\n",
              "      <td>5</td>\n",
              "      <td>Países Baixos</td>\n",
              "      <td>0.922</td>\n",
              "    </tr>\n",
              "    <tr>\n",
              "      <th>...</th>\n",
              "      <td>...</td>\n",
              "      <td>...</td>\n",
              "      <td>...</td>\n",
              "    </tr>\n",
              "    <tr>\n",
              "      <th>143</th>\n",
              "      <td>143</td>\n",
              "      <td>São Tomé e Príncipe</td>\n",
              "      <td>0.555</td>\n",
              "    </tr>\n",
              "    <tr>\n",
              "      <th>144</th>\n",
              "      <td>145</td>\n",
              "      <td>Quênia</td>\n",
              "      <td>0.548</td>\n",
              "    </tr>\n",
              "    <tr>\n",
              "      <th>145</th>\n",
              "      <td>145</td>\n",
              "      <td>Nepal</td>\n",
              "      <td>0.548</td>\n",
              "    </tr>\n",
              "    <tr>\n",
              "      <th>146</th>\n",
              "      <td>147</td>\n",
              "      <td>Paquistão</td>\n",
              "      <td>0.538</td>\n",
              "    </tr>\n",
              "    <tr>\n",
              "      <th>147</th>\n",
              "      <td>148</td>\n",
              "      <td>Mianmar</td>\n",
              "      <td>0.536</td>\n",
              "    </tr>\n",
              "  </tbody>\n",
              "</table>\n",
              "<p>148 rows × 3 columns</p>\n",
              "</div>"
            ],
            "text/plain": [
              "     Pos                 Pais    IDH\n",
              "0      1              Noruega  0.944\n",
              "1      2            Austrália  0.935\n",
              "2      3                Suíça  0.930\n",
              "3      4            Dinamarca  0.923\n",
              "4      5        Países Baixos  0.922\n",
              "..   ...                  ...    ...\n",
              "143  143  São Tomé e Príncipe  0.555\n",
              "144  145               Quênia  0.548\n",
              "145  145                Nepal  0.548\n",
              "146  147            Paquistão  0.538\n",
              "147  148              Mianmar  0.536\n",
              "\n",
              "[148 rows x 3 columns]"
            ]
          },
          "metadata": {
            "tags": []
          }
        }
      ]
    },
    {
      "cell_type": "markdown",
      "metadata": {
        "id": "iY4aQeprrylS"
      },
      "source": [
        "#Filtrando Dados\n"
      ]
    },
    {
      "cell_type": "code",
      "metadata": {
        "id": "11-YGc9SEdpX"
      },
      "source": [
        "def filterDf(dataFrame, column, values):\n",
        "    return dataFrame.loc[dataFrame[column].isin(values)]"
      ],
      "execution_count": null,
      "outputs": []
    },
    {
      "cell_type": "code",
      "metadata": {
        "id": "gDfxjuLyr2y8"
      },
      "source": [
        "#Filtro paises selecionados \n",
        "paises_br = ['França','Índia','Estados Unidos','Alemanha','Itália','Brasil','Colômbia','Federação Russa', 'México','Reino Unido']\n",
        "paises_en = ['France', 'India','United States', 'Germany', 'Italy', 'Brazil', 'Colombia', 'Russia', 'Mexico', 'United Kingdom']"
      ],
      "execution_count": null,
      "outputs": []
    },
    {
      "cell_type": "code",
      "metadata": {
        "colab": {
          "base_uri": "https://localhost:8080/"
        },
        "id": "yl5T_ZnhEUee",
        "outputId": "551ba2d5-c758-48fa-8941-83ee07ae3835"
      },
      "source": [
        "df_death_rates_filtered = filterDf(df_c19_death_rates,'Paises', paises_en)\n",
        "df_death_rates_filtered.shape"
      ],
      "execution_count": null,
      "outputs": [
        {
          "output_type": "execute_result",
          "data": {
            "text/plain": [
              "(10, 5)"
            ]
          },
          "metadata": {
            "tags": []
          },
          "execution_count": 59
        }
      ]
    },
    {
      "cell_type": "code",
      "metadata": {
        "colab": {
          "base_uri": "https://localhost:8080/"
        },
        "id": "TsoBXQ7NEirf",
        "outputId": "249729af-1bcd-4dbe-cf08-354b7f4ec5a5"
      },
      "source": [
        "df_idh_filtered = filterDf(df_idh,'Pais', paises_br)\n",
        "df_idh_filtered = df_idh_filtered.drop('Pos', axis=1)\n",
        "df_idh_filtered.shape"
      ],
      "execution_count": null,
      "outputs": [
        {
          "output_type": "execute_result",
          "data": {
            "text/plain": [
              "(10, 2)"
            ]
          },
          "metadata": {
            "tags": []
          },
          "execution_count": 60
        }
      ]
    },
    {
      "cell_type": "code",
      "metadata": {
        "id": "aYfMXIeyFG-P"
      },
      "source": [
        "lista_idhs = list(df_idh_filtered.sort_values(['IDH'],ascending=False)['IDH'])"
      ],
      "execution_count": null,
      "outputs": []
    },
    {
      "cell_type": "code",
      "metadata": {
        "id": "EPnNsK30nVTB"
      },
      "source": [
        "df_rates_ordenado = df_death_rates_filtered.sort_values(['Mortes/100.000'], ascending=False)"
      ],
      "execution_count": null,
      "outputs": []
    },
    {
      "cell_type": "code",
      "metadata": {
        "id": "3Gsgtvi-ffLm"
      },
      "source": [
        "sns.set_theme(style='white', palette='deep', font='sans-serif', font_scale=1, color_codes=True, rc=None)\n",
        "df_death_rates_filtered = df_death_rates_filtered.sort_values(['Total Mortes'], ascending=False)"
      ],
      "execution_count": null,
      "outputs": []
    },
    {
      "cell_type": "code",
      "metadata": {
        "colab": {
          "base_uri": "https://localhost:8080/"
        },
        "id": "w1Bx-fuofnS7",
        "outputId": "237075a4-e012-473b-fca8-d6d1cfcd0eff"
      },
      "source": [
        "df_death_rates_filtered['Paises']"
      ],
      "execution_count": null,
      "outputs": [
        {
          "output_type": "execute_result",
          "data": {
            "text/plain": [
              "17     United States\n",
              "10            Brazil\n",
              "92             India\n",
              "18            Mexico\n",
              "15    United Kingdom\n",
              "12             Italy\n",
              "58            Russia\n",
              "24            France\n",
              "45           Germany\n",
              "20          Colombia\n",
              "Name: Paises, dtype: object"
            ]
          },
          "metadata": {
            "tags": []
          },
          "execution_count": 64
        }
      ]
    },
    {
      "cell_type": "code",
      "metadata": {
        "id": "ce6zjG2mmOKw"
      },
      "source": [
        "df_morte_mes = pd.DataFrame({\"Jan\":[1], \"Fev\":[258], \"Mar\":[2718], \"Abr\":[37621], \"Mai\":[183574], \"Jun\":[146994], \"Jul\":[136886], \"Aug\":[167005], \"Sep\":[173385], \"Out\":[162194], \"Nov\":[182272], \"Dez\":[272233]})\n",
        "df_morte_mes\n",
        "Numero = [1,258,2718,37621,183574,146994,136886,167005,173385,162194,182272,272233]"
      ],
      "execution_count": null,
      "outputs": []
    },
    {
      "cell_type": "markdown",
      "metadata": {
        "id": "3aHvEwlfIs-6"
      },
      "source": [
        "##Visualização dos dados"
      ]
    },
    {
      "cell_type": "markdown",
      "metadata": {
        "id": "GLy-Gg9FNHUy"
      },
      "source": [
        "###Configurações globais dos gráficos "
      ]
    },
    {
      "cell_type": "code",
      "metadata": {
        "id": "NmvtB6FLJCun"
      },
      "source": [
        "sns.set()\n",
        "sns.set_style('white')"
      ],
      "execution_count": null,
      "outputs": []
    },
    {
      "cell_type": "code",
      "metadata": {
        "id": "GX4MugMaJ6R4"
      },
      "source": [
        "parameters = {\n",
        "    'axes.titlesize' : 25,\n",
        "    'axes.labelsize' : 20,\n",
        "    'font.weight': 'light',\n",
        "    'xtick.labelsize': 17,\n",
        "    'ytick.labelsize': 17,\n",
        "}\n",
        "plt.rcParams.update(parameters)"
      ],
      "execution_count": null,
      "outputs": []
    },
    {
      "cell_type": "markdown",
      "metadata": {
        "id": "i47iekabXU-_"
      },
      "source": [
        "###Gráficos"
      ]
    },
    {
      "cell_type": "code",
      "metadata": {
        "colab": {
          "base_uri": "https://localhost:8080/"
        },
        "id": "bITNbLhtE_Xx",
        "outputId": "e15af6c4-704f-4b30-dc1c-6ac87af6f685"
      },
      "source": [
        "plt.figure(figsize=(24,10))\n",
        "plt.title('Comparativo de por Mortes/100.000 com IDH', fontsize=30)\n",
        "sns.barplot(x='Paises', y='Mortes/100.000', data=df_rates_ordenado)\n",
        "plt.twinx()\n",
        "sns.lineplot(x='IDH', data=df_idh_filtered,label='Mortes/100.000')\n",
        "plt.legend(fontsize=15)\n",
        "sns.pointplot(y='IDH', x='Pais', data=df_idh_filtered, color='black')\n",
        "plt.show()"
      ],
      "execution_count": null,
      "outputs": [
        {
          "output_type": "display_data",
          "data": {
            "image/png": "[encoded data removed]",
            "text/plain": [
              "<Figure size 1728x720 with 2 Axes>"
            ]
          },
          "metadata": {
            "tags": []
          }
        }
      ]
    },
    {
      "cell_type": "markdown",
      "metadata": {
        "id": "VC5MGUPWNY8Y"
      },
      "source": [
        "Nesse comparativo é possível observar que quanto maior a quantidade de mortes/100.000 maior o IDH, isso pode acontecer devido a concentração urbana ser maior em países com IDH alto, facilitando a transmissão nesses territórios, outro fator é a expectativa de vida alta que faz esses países terem uma população idosa maior, que são as pessoas mais afetadas pelo vírus. Também existem alguns outliers como a Índia que possui uma superpopulação e IDH baixo, isso causa uma ineficiência no registro de casos, então estaticamente é melhor não o considerar. "
      ]
    },
    {
      "cell_type": "code",
      "metadata": {
        "colab": {
          "base_uri": "https://localhost:8080/"
        },
        "id": "c_n2gFJrfgpf",
        "outputId": "e51ba51c-b517-4f9b-fbfe-d8b21e433c1c"
      },
      "source": [
        "fig_dims = (12, 8)\n",
        "fig, ax = plt.subplots(figsize=fig_dims)\n",
        "sns.barplot(data=df_death_rates_filtered, x='Paises', y='Total Mortes', ax=ax)\n",
        "plt.ylabel('Total Mortes', fontsize=15)\n",
        "plt.xlabel('Paises', fontsize=15)\n",
        "plt.twinx()\n",
        "sns.lineplot(data=df_death_rates_filtered, x='Paises', y='Mortes/100.000', color='black', label='Mortes/100.000')\n",
        "plt.ylabel('Morte/100.000', fontsize=15)\n",
        "sns.scatterplot(data=df_death_rates_filtered, x='Paises', y='Mortes/100.000', color='black')\n",
        "plt.title('Comparativo Total de Mortes com Mortes/100.000', fontsize=20)\n",
        "plt.show()"
      ],
      "execution_count": null,
      "outputs": [
        {
          "output_type": "display_data",
          "data": {
            "image/png": "[encoded data removed]",
            "text/plain": [
              "<Figure size 864x576 with 2 Axes>"
            ]
          },
          "metadata": {
            "tags": []
          }
        }
      ]
    },
    {
      "cell_type": "code",
      "metadata": {
        "colab": {
          "base_uri": "https://localhost:8080/"
        },
        "id": "sWka-DzAmm7v",
        "outputId": "d233f75e-98c8-4e02-af02-de4bdea35592"
      },
      "source": [
        "plt.figure(figsize=(16,8))\n",
        "sns.lineplot(x=months, y=Numero, color='red', label='Aumento Morte/Mes')\n",
        "sns.barplot(data=coronaMundo,color='gray')\n",
        "plt.ylim(0, 1500000)\n",
        "plt.xlabel('Meses', fontsize=13)\n",
        "plt.ylabel('Mortes', fontsize=13)\n",
        "plt.title('Acumulativo de Mortes 2020', fontsize=20)\n",
        "plt.legend()\n",
        "plt.show()"
      ],
      "execution_count": null,
      "outputs": [
        {
          "output_type": "display_data",
          "data": {
            "image/png": "[encoded data removed]",
            "text/plain": [
              "<Figure size 1152x576 with 1 Axes>"
            ]
          },
          "metadata": {
            "tags": []
          }
        }
      ]
    }
  ]
}